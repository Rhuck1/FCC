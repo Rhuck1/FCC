{
 "cells": [
  {
   "cell_type": "markdown",
   "id": "a4a6ff7f-9d34-46f1-ac02-5b64fd099cec",
   "metadata": {},
   "source": [
    "### Natural Language Processing\n",
    "\n",
    "Natural Language Processing (NLP) is a discipline in computing that deals with the communication between natural (human) languages and computer languages. A common example of NLP is something like spellcheck or autocomplete. NLP is the field that focuses on how computers can understand and/or process natural/human languages.  \n",
    "\n",
    "#### Recurrent Neural Networks\n",
    "\n",
    "This new kind of neural network, a recurrent neural network (RNN), is much more capable of processing sequential data such as text or characters. And will be used to do the following:\n",
    "\n",
    "    Sentiment Analysis\n",
    "    Character Generation"
   ]
  },
  {
   "cell_type": "markdown",
   "id": "c40f3730-ed29-4b17-98b8-518e87c067ee",
   "metadata": {},
   "source": [
    "### Sequence Data\n",
    "\n",
    "Sequence data such as long chains of text, weather patterns, videos and really anything where the notion of a step or time is relevant needs to be processed and handled in a special way. When working with previous data, the notion of time or step was irrelevant.\n",
    "\n",
    "Textual data contains words that follow in a very specific meaningful order and we need to be able to keep track of each word and when it occurs in the data. Simply encoding an entire paragraph of text into one data point wouldn't provide a meaningful picture of the data and would be very difficult to do anything with. This is why we treat text as a sequence and process one word at a time. We will keep track of where each of these words appear and use that information to try to understand the meaning of pieces of text."
   ]
  },
  {
   "cell_type": "markdown",
   "id": "3289749c-c44b-4589-b352-1695129ed823",
   "metadata": {},
   "source": [
    "### Encoding Text\n",
    "\n",
    "ML models and NNs don't accept raw text data as an input. This means we must somehow encode our textual data to numeric values that our models can understand. There are many different ways of doing this and we will look at a few examples below.\n",
    "\n",
    "Consider the following two movie reviews:  \n",
    "\n",
    "    I thought the movie was going to be bad, but it was actually amazing!\n",
    "\n",
    "    I thought the movie was going to be amazing, but it was actually bad!\n",
    "\n",
    "Although these two setences are very similar we know that they have very different meanings. This is because of the ordering of words, a very important property of textual data.\n",
    "\n",
    "Now keep that in mind while we consider some different ways of encoding our textual data.  \n",
    "\n",
    "#### Bag of Words\n",
    "\n",
    "The easiest way to encode text data is to use a \"bag of words\". This technique encodes each word in a sentence with an integer and throws it into a collection that does not maintain the order of the words but does keep track of the frequency"
   ]
  },
  {
   "cell_type": "code",
   "execution_count": 1,
   "id": "e59db7c9-ad4b-450a-8c11-88d5812a9c71",
   "metadata": {},
   "outputs": [
    {
     "name": "stdout",
     "output_type": "stream",
     "text": [
      "{1: 2, 2: 3, 3: 3, 4: 3, 5: 1, 6: 1, 7: 1, 8: 1, 9: 1}\n",
      "{'this': 1, 'is': 2, 'a': 3, 'test': 4, 'to': 5, 'see': 6, 'if': 7, 'will': 8, 'work': 9}\n"
     ]
    }
   ],
   "source": [
    "# The python function below that encodes a string of text into bag of words. \n",
    "vocab = {} # Maps word to integer representation\n",
    "word_encoding = 1\n",
    "\n",
    "def bag_of_words(text):\n",
    "    global word_encoding\n",
    "    \n",
    "    words = text.lower().split(\" \") # Creates a list of all the words in the text, we'll assume there is no grammar in our text for this example\n",
    "    bag = {} # Stores all of the encodings and their frequency\n",
    "    \n",
    "    for word in words:\n",
    "        \n",
    "        if word in vocab:\n",
    "            encoding = vocab[word] # Get encoding from vocab\n",
    "        else:\n",
    "            vocab[word] = word_encoding\n",
    "            encoding = word_encoding\n",
    "            word_encoding += 1\n",
    "            \n",
    "        if encoding in bag:\n",
    "            bag[encoding] += 1\n",
    "        else:\n",
    "            bag[encoding] = 1\n",
    "            \n",
    "    return bag\n",
    "\n",
    "text = \"this is a test to see if this test will work is is test a a\"\n",
    "bag = bag_of_words(text)\n",
    "print(bag)\n",
    "print(vocab)"
   ]
  },
  {
   "cell_type": "code",
   "execution_count": 2,
   "id": "bef35ed4-edb0-4dd3-abee-4edc8c8bf46a",
   "metadata": {},
   "outputs": [
    {
     "name": "stdout",
     "output_type": "stream",
     "text": [
      "Positive: {10: 1, 11: 1, 12: 1, 13: 1, 14: 2, 15: 1, 5: 1, 16: 1, 17: 1, 18: 1, 19: 1, 20: 1, 21: 1}\n",
      "Negative: {10: 1, 11: 1, 12: 1, 13: 1, 14: 2, 15: 1, 5: 1, 16: 1, 21: 1, 18: 1, 19: 1, 20: 1, 17: 1} \n",
      "\n",
      "We can see that even though these sentences have a very different meaning they are encoded exaclty the same way\n"
     ]
    }
   ],
   "source": [
    "# Look at how this encoding works for the two sentences we showed above\n",
    "positive_review = \"I thought the movie was going to be bad but it was actually amazing\"\n",
    "negative_review = \"I thought the movie was going to be amazing but it was actually bad\"\n",
    "\n",
    "pos_bag = bag_of_words(positive_review)\n",
    "neg_bag = bag_of_words(negative_review)\n",
    "\n",
    "print(\"Positive:\", pos_bag)\n",
    "print(\"Negative:\", neg_bag, '\\n')\n",
    "\n",
    "print(\"We can see that even though these sentences have a very different meaning they are encoded exaclty the same way\")"
   ]
  },
  {
   "cell_type": "markdown",
   "id": "68346fdd-07ec-4c51-a279-2954ddae7e75",
   "metadata": {},
   "source": [
    "### Integer Encoding\n",
    "\n",
    "This next technique, integer encoding, involves representing each word or character in a sentence as a unique integer and maintaining the order of these words. This should fix the earlier problem where we lost the order of words."
   ]
  },
  {
   "cell_type": "code",
   "execution_count": 3,
   "id": "e8d276f1-b156-480d-9ef2-5be91685b92c",
   "metadata": {},
   "outputs": [
    {
     "name": "stdout",
     "output_type": "stream",
     "text": [
      "[1, 2, 3, 4, 5, 6, 7, 1, 4, 8, 9, 2, 2, 4, 3, 3]\n",
      "{'this': 1, 'is': 2, 'a': 3, 'test': 4, 'to': 5, 'see': 6, 'if': 7, 'will': 8, 'work': 9}\n"
     ]
    }
   ],
   "source": [
    "vocab = {}  \n",
    "word_encoding = 1\n",
    "\n",
    "def one_hot_encoding(text):\n",
    "    \n",
    "  global word_encoding\n",
    "\n",
    "  words = text.lower().split(\" \") \n",
    "  encoding = []  \n",
    "\n",
    "  for word in words:\n",
    "    if word in vocab:\n",
    "      code = vocab[word]  \n",
    "      encoding.append(code) \n",
    "    else:\n",
    "      vocab[word] = word_encoding\n",
    "      encoding.append(word_encoding)\n",
    "      word_encoding += 1\n",
    "  \n",
    "  return encoding\n",
    "\n",
    "text = \"this is a test to see if this test will work is is test a a\"\n",
    "encoding = one_hot_encoding(text)\n",
    "print(encoding)\n",
    "print(vocab)"
   ]
  },
  {
   "cell_type": "code",
   "execution_count": 4,
   "id": "1c9e4e85-bc8a-4de1-aa58-83cdd8497840",
   "metadata": {},
   "outputs": [
    {
     "name": "stdout",
     "output_type": "stream",
     "text": [
      "Positive: [10, 11, 12, 13, 14, 15, 5, 16, 17, 18, 19, 14, 20, 21]\n",
      "Negative: [10, 11, 12, 13, 14, 15, 5, 16, 21, 18, 19, 14, 20, 17] \n",
      "\n"
     ]
    }
   ],
   "source": [
    "# Let's look at one hot encoding on our movie reviews.\n",
    "positive_review = \"I thought the movie was going to be bad but it was actually amazing\"\n",
    "negative_review = \"I thought the movie was going to be amazing but it was actually bad\"\n",
    "\n",
    "pos_encode = one_hot_encoding(positive_review)\n",
    "neg_encode = one_hot_encoding(negative_review)\n",
    "\n",
    "print(\"Positive:\", pos_encode)\n",
    "print(\"Negative:\", neg_encode, '\\n')"
   ]
  },
  {
   "cell_type": "markdown",
   "id": "9214f0f2-b675-42ad-9598-69c36e6b37d2",
   "metadata": {},
   "source": [
    "Now we are keeping track of the order of words and we can tell where each occurs.  Ideally, we would like similar words to have similar labels and different words to have very different labels. For example, the words happy and joyful should probably have very similar labels so we can determine that they are similar. While words like horrible and amazing should probably have very different labels. The method we looked at above won't be able to do something like this for us. This could mean that the model will have a very difficult time determing if two words are similar or not which could result in some pretty drastic performace impacts."
   ]
  },
  {
   "cell_type": "markdown",
   "id": "52f60d6e-b7f1-4942-88da-bf247f1ff720",
   "metadata": {},
   "source": [
    "### Word Embeddings\n",
    "\n",
    "A third far superior method is word embeddings. This method keeps the order of words intact as well as encodes similar words with very similar labels. It attempts to not only encode the frequency and order of words but the meaning of those words in the sentence. It encodes each word as a dense vector that represents its context in the sentence.\n",
    "\n",
    "Unlike the previous techniques word embeddings are learned by looking at many different training examples. You can add what's called an embedding layer to the beggining of your model and while your model trains your embedding layer will learn the correct embeddings for words. You can also use pretrained embedding layers."
   ]
  },
  {
   "cell_type": "markdown",
   "id": "05dcb0d5-4d66-43a7-b16c-6dead1c115df",
   "metadata": {},
   "source": [
    "### Recurrent Neural Networks (RNN's)\n",
    "\n",
    "We have been using feed-forward neural networks. This means that all our data is fed forwards (all at once) from left to right through the network. This won't work well for processing text. A recurrent neural network is a network that contains a loop. A RNN will process one word at a time while maintaining an internal memory of what it's already seen. This will allow it to treat words differently based on their order in a sentence and to slowly build an understanding of the entire input, one word at a time.\n",
    "\n",
    "This is why we are treating our text data as a sequence! So that we can pass one word at a time to the RNN.\n",
    "\n",
    "Let's have a look at what a recurrent layer might look like:\n",
    "\n",
    "![alt text](https://colah.github.io/posts/2015-08-Understanding-LSTMs/img/RNN-unrolled.png)\n",
    "*Source: https://colah.github.io/posts/2015-08-Understanding-LSTMs/*\n",
    "\n",
    "Variable definitions:\n",
    "\n",
    "    ht: output at time t\n",
    "\n",
    "    xt: input at time t\n",
    "\n",
    "    A Recurrent Layer (loop)\n",
    "\n",
    "What this diagram is trying to illustrate is that a recurrent layer processes words or input one at a time in combination with the output from the previous iteration. So, as we progress further in the input sequence, we build a more complex understanding of the text as a whole.\n",
    "\n",
    "It can be effective at processing shorter sequences of text for simple problems but has many downfalls associated with it, one of them being that as text sequences get longer it gets increasingly difficult for the network to understand the text properly."
   ]
  },
  {
   "cell_type": "markdown",
   "id": "936edecb-2d9f-44fb-973c-fdd28ee301ee",
   "metadata": {},
   "source": [
    "### LSTM\n",
    "\n",
    "LSTM (Long Short-Term Memory) works similarly to the simple RNN layer but adds a way to access inputs from any timestep in the past. Whereas in our simple RNN layer input from previous timestamps gradually disappeared as we got further through the input, with an LSTM we have a long-term memory data structure storing all the previously seen inputs as well as when we saw them. This allows access to any previous value we want at any point in time. This adds to the complexity of our network and allows it to discover more useful relationships between inputs and when they appear."
   ]
  },
  {
   "cell_type": "markdown",
   "id": "52c20166-27d6-4b18-8919-94f00e65037d",
   "metadata": {},
   "source": [
    "### Sentiment Analysis\n",
    "\n",
    "The process of computationally identifying and categorizing opinions expressed in a piece of text, especially in order to determine whether the writer's attitude towards a particular topic, product, etc. is positive, negative, or neutral."
   ]
  },
  {
   "cell_type": "markdown",
   "id": "4150d557-5e41-431f-8d28-11d316248061",
   "metadata": {},
   "source": [
    "### Movie Review Dataset\n",
    "\n",
    "Classify movie reviews using the IMDB movie review dataset from keras, which contains 25,000 reviews. Each review is already preprocessed and has a label as either positive or negative. Each review is encoded by integers that represents how common a word is in the entire dataset. For example, a word encoded by the integer 3 means that it is the 3rd most common word in the dataset."
   ]
  },
  {
   "cell_type": "code",
   "execution_count": 5,
   "id": "a22ab985-12fa-42f4-9cc7-b00fd75408b5",
   "metadata": {},
   "outputs": [],
   "source": [
    "from keras.datasets import imdb\n",
    "import keras\n",
    "# from keras_preprocessing import sequence apparently this doesn't work\n",
    "from keras_preprocessing import sequence\n",
    "import tensorflow as tf\n",
    "import os\n",
    "import numpy as np\n",
    "\n",
    "VOCAB_SIZE = 88584\n",
    "\n",
    "MAXLEN = 250\n",
    "BATCH_SIZE = 64\n",
    "\n",
    "(train_data, train_labels), (test_data, test_labels) = imdb.load_data(num_words=VOCAB_SIZE)"
   ]
  },
  {
   "cell_type": "code",
   "execution_count": 6,
   "id": "e97cf1e9-1fba-4575-b49b-9d31854e852a",
   "metadata": {
    "scrolled": true,
    "tags": []
   },
   "outputs": [
    {
     "data": {
      "text/plain": [
       "189"
      ]
     },
     "execution_count": 6,
     "metadata": {},
     "output_type": "execute_result"
    }
   ],
   "source": [
    "len(train_data[1])"
   ]
  },
  {
   "cell_type": "markdown",
   "id": "f9af50d1-0aaa-486e-b1ad-0580e8b1361d",
   "metadata": {},
   "source": [
    "### Preprocessing\n",
    "\n",
    "The reviews are different lengths. We cannot pass different length data into our neural network. Therefore, we must make each review the same length. To do this we will follow the procedure below:\n",
    "\n",
    "    if the review is greater than 250 words then trim off the extra words\n",
    "    if the review is less than 250 words add the necessary amount of 0's to make it equal to 250\n",
    "\n",
    "Keras has a function that can do this for us:"
   ]
  },
  {
   "cell_type": "code",
   "execution_count": 7,
   "id": "e2bbaf03-e9ca-4f42-96f2-37a23e827643",
   "metadata": {},
   "outputs": [],
   "source": [
    "train_data = sequence.pad_sequences(train_data, MAXLEN)\n",
    "test_data = sequence.pad_sequences(test_data, MAXLEN)"
   ]
  },
  {
   "cell_type": "markdown",
   "id": "77294cad-649f-43eb-8471-7545d4629453",
   "metadata": {},
   "source": [
    "### Creating the Model\n",
    "\n",
    "We'll use a word embedding layer as the first layer in our model and add a LSTM layer afterwards that feeds into a dense node to get our predicted sentiment.\n",
    "\n",
    "32 stands for the output dimension of the vectors generated by the embedding layer. We can change this value if we'd like!"
   ]
  },
  {
   "cell_type": "code",
   "execution_count": 8,
   "id": "1de6ef68-83ac-4473-a07f-a1f38a27407e",
   "metadata": {},
   "outputs": [],
   "source": [
    "model = tf.keras.Sequential([\n",
    "    tf.keras.layers.Embedding(VOCAB_SIZE, 32),\n",
    "    tf.keras.layers.LSTM(32),\n",
    "    tf.keras.layers.Dense(1, activation=\"sigmoid\")\n",
    "])"
   ]
  },
  {
   "cell_type": "code",
   "execution_count": 9,
   "id": "5c5bf761-b627-42ca-b4a8-b5ef3bbd40d7",
   "metadata": {},
   "outputs": [
    {
     "name": "stdout",
     "output_type": "stream",
     "text": [
      "Model: \"sequential\"\n",
      "_________________________________________________________________\n",
      " Layer (type)                Output Shape              Param #   \n",
      "=================================================================\n",
      " embedding (Embedding)       (None, None, 32)          2834688   \n",
      "                                                                 \n",
      " lstm (LSTM)                 (None, 32)                8320      \n",
      "                                                                 \n",
      " dense (Dense)               (None, 1)                 33        \n",
      "                                                                 \n",
      "=================================================================\n",
      "Total params: 2,843,041\n",
      "Trainable params: 2,843,041\n",
      "Non-trainable params: 0\n",
      "_________________________________________________________________\n"
     ]
    }
   ],
   "source": [
    "model.summary()"
   ]
  },
  {
   "cell_type": "markdown",
   "id": "941084ca-0d3a-4f66-8a82-fa6a93e3bd17",
   "metadata": {},
   "source": [
    "### Training\n",
    "\n",
    "Now to compile and train the model"
   ]
  },
  {
   "cell_type": "code",
   "execution_count": 10,
   "id": "7a123901-da3f-4857-82bd-62dd12514b38",
   "metadata": {},
   "outputs": [
    {
     "name": "stdout",
     "output_type": "stream",
     "text": [
      "Epoch 1/10\n",
      "625/625 [==============================] - 87s 126ms/step - loss: 0.4549 - acc: 0.7772 - val_loss: 0.3915 - val_acc: 0.8308\n",
      "Epoch 2/10\n",
      "625/625 [==============================] - 75s 120ms/step - loss: 0.2580 - acc: 0.8996 - val_loss: 0.3084 - val_acc: 0.8822\n",
      "Epoch 3/10\n",
      "625/625 [==============================] - 65s 104ms/step - loss: 0.2012 - acc: 0.9252 - val_loss: 0.2828 - val_acc: 0.8900\n",
      "Epoch 4/10\n",
      "625/625 [==============================] - 68s 108ms/step - loss: 0.1624 - acc: 0.9424 - val_loss: 0.3059 - val_acc: 0.8704\n",
      "Epoch 5/10\n",
      "625/625 [==============================] - 80s 128ms/step - loss: 0.1323 - acc: 0.9531 - val_loss: 0.3079 - val_acc: 0.8778\n",
      "Epoch 6/10\n",
      "625/625 [==============================] - 78s 125ms/step - loss: 0.1069 - acc: 0.9636 - val_loss: 0.3237 - val_acc: 0.8772\n",
      "Epoch 7/10\n",
      "625/625 [==============================] - 89s 142ms/step - loss: 0.0916 - acc: 0.9704 - val_loss: 0.3405 - val_acc: 0.8762\n",
      "Epoch 8/10\n",
      "625/625 [==============================] - 81s 130ms/step - loss: 0.0738 - acc: 0.9769 - val_loss: 0.4271 - val_acc: 0.8822\n",
      "Epoch 9/10\n",
      "625/625 [==============================] - 85s 135ms/step - loss: 0.0646 - acc: 0.9796 - val_loss: 0.3846 - val_acc: 0.8728\n",
      "Epoch 10/10\n",
      "625/625 [==============================] - 78s 125ms/step - loss: 0.0548 - acc: 0.9833 - val_loss: 0.4301 - val_acc: 0.8636\n"
     ]
    }
   ],
   "source": [
    "model.compile(loss=\"binary_crossentropy\", optimizer=\"rmsprop\", metrics=[\"acc\"])\n",
    "history = model.fit(train_data, train_labels, epochs=10, validation_split=0.2)"
   ]
  },
  {
   "cell_type": "code",
   "execution_count": 11,
   "id": "e83e0bbc-3e62-4c1e-9255-b63430d79480",
   "metadata": {},
   "outputs": [
    {
     "name": "stdout",
     "output_type": "stream",
     "text": [
      "782/782 [==============================] - 15s 19ms/step - loss: 0.5048 - acc: 0.8448\n",
      "[0.5047945976257324, 0.8448399901390076]\n"
     ]
    }
   ],
   "source": [
    "results = model.evaluate(test_data, test_labels)\n",
    "print(results)"
   ]
  },
  {
   "cell_type": "markdown",
   "id": "fad116af-1370-4ec0-9219-5e8e769cf01e",
   "metadata": {},
   "source": [
    "### Making Predictions\n",
    "\n",
    "Using the network to make predictions on our reviews.\n",
    "\n",
    "Since our reviews are encoded, we need to convert any review that we write into that form so the network can understand it. To do that well load the encodings from the dataset and use them to encode our own data."
   ]
  },
  {
   "cell_type": "code",
   "execution_count": 12,
   "id": "bf29a34f-0da9-47f6-b683-fe24c63ca7ef",
   "metadata": {},
   "outputs": [
    {
     "name": "stdout",
     "output_type": "stream",
     "text": [
      "[  0   0   0   0   0   0   0   0   0   0   0   0   0   0   0   0   0   0\n",
      "   0   0   0   0   0   0   0   0   0   0   0   0   0   0   0   0   0   0\n",
      "   0   0   0   0   0   0   0   0   0   0   0   0   0   0   0   0   0   0\n",
      "   0   0   0   0   0   0   0   0   0   0   0   0   0   0   0   0   0   0\n",
      "   0   0   0   0   0   0   0   0   0   0   0   0   0   0   0   0   0   0\n",
      "   0   0   0   0   0   0   0   0   0   0   0   0   0   0   0   0   0   0\n",
      "   0   0   0   0   0   0   0   0   0   0   0   0   0   0   0   0   0   0\n",
      "   0   0   0   0   0   0   0   0   0   0   0   0   0   0   0   0   0   0\n",
      "   0   0   0   0   0   0   0   0   0   0   0   0   0   0   0   0   0   0\n",
      "   0   0   0   0   0   0   0   0   0   0   0   0   0   0   0   0   0   0\n",
      "   0   0   0   0   0   0   0   0   0   0   0   0   0   0   0   0   0   0\n",
      "   0   0   0   0   0   0   0   0   0   0   0   0   0   0   0   0   0   0\n",
      "   0   0   0   0   0   0   0   0   0   0   0   0   0   0   0   0   0   0\n",
      "   0   0   0   0   0   0   0   0   0  12  17  13  40 477  35 477]\n"
     ]
    }
   ],
   "source": [
    "word_index = imdb.get_word_index()\n",
    "\n",
    "def encode_text(text):\n",
    "    \n",
    "    tokens = keras.preprocessing.text.text_to_word_sequence(text)\n",
    "    tokens = [word_index[word] if word in word_index else 0 for word in tokens]\n",
    "    return sequence.pad_sequences([tokens], MAXLEN)[0]\n",
    "\n",
    "text = \"that movie was just amazing, so amazing\"\n",
    "encoded = encode_text(text)\n",
    "print(encoded)"
   ]
  },
  {
   "cell_type": "code",
   "execution_count": 13,
   "id": "5cf8ac42-ad99-45dc-b773-af01a0f74a65",
   "metadata": {},
   "outputs": [
    {
     "name": "stdout",
     "output_type": "stream",
     "text": [
      "that movie was just amazing so amazing\n"
     ]
    }
   ],
   "source": [
    "# Decode function\n",
    "reverse_word_index = {value: key for (key, value) in word_index.items()}\n",
    "\n",
    "def decode_integers(integers):\n",
    "    \n",
    "    PAD = 0\n",
    "    text = \"\"\n",
    "    for num in integers:\n",
    "        \n",
    "        if num != PAD:\n",
    "            text += reverse_word_index[num] + \" \"\n",
    "            \n",
    "    return text[:-1]\n",
    "\n",
    "print(decode_integers(encoded))"
   ]
  },
  {
   "cell_type": "code",
   "execution_count": 14,
   "id": "a6d25405-7950-455e-bfa4-4898274431fa",
   "metadata": {},
   "outputs": [
    {
     "name": "stdout",
     "output_type": "stream",
     "text": [
      "1/1 [==============================] - 1s 744ms/step\n",
      "[0.89384913]\n",
      "1/1 [==============================] - 0s 22ms/step\n",
      "[0.11018962]\n"
     ]
    }
   ],
   "source": [
    "# Time to make prediction\n",
    "def predict(text):\n",
    "    encoded_text = encode_text(text)\n",
    "    pred = np.zeros((1,250))\n",
    "    pred[0] = encoded_text\n",
    "    result = model.predict(pred)\n",
    "    print(result[0])\n",
    "    \n",
    "positive_review = \"That movie was so awesome! I really loved it and would watch it again because it was amazingly great\"\n",
    "predict(positive_review)\n",
    "\n",
    "negative_review = \"that movie sucked. I hated it and wouldn't watch it again. Was one of the worst things I've ever watched\"\n",
    "predict(negative_review)"
   ]
  },
  {
   "cell_type": "markdown",
   "id": "7473b144-a23d-41fb-b610-96fbac67941e",
   "metadata": {},
   "source": [
    "## RNN Play Generator"
   ]
  },
  {
   "cell_type": "code",
   "execution_count": 1,
   "id": "8da821e3-720c-4e9e-a4d5-bb04e71e86de",
   "metadata": {},
   "outputs": [],
   "source": [
    "import keras\n",
    "from keras_preprocessing import sequence\n",
    "import tensorflow as tf\n",
    "import os\n",
    "import numpy as np"
   ]
  },
  {
   "cell_type": "code",
   "execution_count": 2,
   "id": "334c27a6-9ab8-4f34-838c-5a634f056727",
   "metadata": {},
   "outputs": [],
   "source": [
    "# Dataset taking an extract from a Shakespeare play\n",
    "path_to_file = tf.keras.utils.get_file('shakespeare.txt', 'https://storage.googleapis.com/download.tensorflow.org/data/shakespeare.txt')"
   ]
  },
  {
   "cell_type": "code",
   "execution_count": 3,
   "id": "52af73c3-d9d3-4f17-8aed-82f27714de51",
   "metadata": {},
   "outputs": [
    {
     "name": "stdout",
     "output_type": "stream",
     "text": [
      "Length of text: 1115394 characters\n"
     ]
    }
   ],
   "source": [
    "# Read and decode for py2 compatibility\n",
    "text = open(path_to_file, 'rb').read().decode(encoding='utf-8')\n",
    "# Length of text is # of characters in it\n",
    "print(\"Length of text: {} characters\".format(len(text)))"
   ]
  },
  {
   "cell_type": "code",
   "execution_count": 4,
   "id": "5ce2e8ee-1c4e-4b61-abde-d1af9169e05e",
   "metadata": {},
   "outputs": [
    {
     "name": "stdout",
     "output_type": "stream",
     "text": [
      "First Citizen:\n",
      "Before we proceed any further, hear me speak.\n",
      "\n",
      "All:\n",
      "Speak, speak.\n",
      "\n",
      "First Citizen:\n",
      "You are all resolved rather to die than to famish?\n",
      "\n",
      "All:\n",
      "Resolved. resolved.\n",
      "\n",
      "First Citizen:\n",
      "First, you know Caius Marcius is chief enemy to the people.\n",
      "\n"
     ]
    }
   ],
   "source": [
    "# First 250 characters in text\n",
    "print(text[:250])"
   ]
  },
  {
   "cell_type": "markdown",
   "id": "e88edd9d-54f7-453c-bfa5-fce84ca25f74",
   "metadata": {},
   "source": [
    "### Encoding  \n"
   ]
  },
  {
   "cell_type": "code",
   "execution_count": 5,
   "id": "f41b1e75-b70a-4cbe-adc6-3da1db7cd522",
   "metadata": {},
   "outputs": [],
   "source": [
    "vocab = sorted(set(text))\n",
    "# Creating a mapping from unique characters to indicies\n",
    "char2idx = {u:i for i, u in enumerate(vocab)}\n",
    "idx2char = np.array(vocab)\n",
    "\n",
    "def text_to_int(text):\n",
    "    return np.array([char2idx[c] for c in text])\n",
    "\n",
    "text_as_int = text_to_int(text)"
   ]
  },
  {
   "cell_type": "code",
   "execution_count": 6,
   "id": "11609733-9c29-4ccc-927c-23aab3269c2b",
   "metadata": {},
   "outputs": [
    {
     "name": "stdout",
     "output_type": "stream",
     "text": [
      "Text: First Citizen\n",
      "Encoded: [18 47 56 57 58  1 15 47 58 47 64 43 52]\n"
     ]
    }
   ],
   "source": [
    "# Taking a look at how text is encoded\n",
    "print(\"Text:\", text[:13])\n",
    "print(\"Encoded:\", text_to_int(text[:13]))"
   ]
  },
  {
   "cell_type": "code",
   "execution_count": 7,
   "id": "e36660df-6e8d-4061-8bd6-812bf510d693",
   "metadata": {},
   "outputs": [
    {
     "name": "stdout",
     "output_type": "stream",
     "text": [
      "First Citizen\n"
     ]
    }
   ],
   "source": [
    "# Function that converts numeric values to text\n",
    "def int_to_text(ints):\n",
    "    \n",
    "    try:\n",
    "        ints = ints.numpy()\n",
    "    except:\n",
    "        pass\n",
    "    \n",
    "    return ''.join(idx2char[ints])\n",
    "\n",
    "print(int_to_text(text_as_int[:13]))"
   ]
  },
  {
   "cell_type": "markdown",
   "id": "5b3a4a50-a68e-41b7-b4bf-15052090ea30",
   "metadata": {},
   "source": [
    "### Creating Training Examples\n",
    "Our task is to feed the model a sequence and have it return the next character. Therfore we need to split our text data above into many shorter sequences that we can pass to the model as training examples. \n",
    "\n",
    "The training examples we prepapre will use a *seq_length* sequence as input and a *seq_length* sequence as the output where that sequence is the original sequence shifted one letter to the right. For example:\n",
    "\n",
    "```input: Hell | output: ello```\n",
    "\n",
    "Our first step will be to create a stream of characters from our text data."
   ]
  },
  {
   "cell_type": "code",
   "execution_count": null,
   "id": "04f3d08b-e1ab-4bbc-a728-6db4d045593f",
   "metadata": {},
   "outputs": [],
   "source": []
  },
  {
   "cell_type": "code",
   "execution_count": null,
   "id": "e2f66611-c110-4cc6-b7f7-6c8863bd1b64",
   "metadata": {},
   "outputs": [],
   "source": []
  },
  {
   "cell_type": "code",
   "execution_count": null,
   "id": "8368a8c3-3943-41a4-9153-765c02629799",
   "metadata": {},
   "outputs": [],
   "source": []
  },
  {
   "cell_type": "code",
   "execution_count": null,
   "id": "9d8513d2-7786-4218-8f77-7e89be3d5a71",
   "metadata": {},
   "outputs": [],
   "source": []
  },
  {
   "cell_type": "code",
   "execution_count": null,
   "id": "8b192fbf-74f4-4aee-8040-d9ab9d1d857e",
   "metadata": {},
   "outputs": [],
   "source": []
  },
  {
   "cell_type": "code",
   "execution_count": null,
   "id": "9d177b57-e575-4e1a-b7fd-440e68838641",
   "metadata": {},
   "outputs": [],
   "source": []
  },
  {
   "cell_type": "code",
   "execution_count": null,
   "id": "58498ac0-193a-45d6-99fd-ad0bff0cbe2f",
   "metadata": {},
   "outputs": [],
   "source": []
  },
  {
   "cell_type": "code",
   "execution_count": null,
   "id": "ba02fe15-94ce-4980-9576-eef9b808718b",
   "metadata": {},
   "outputs": [],
   "source": []
  },
  {
   "cell_type": "code",
   "execution_count": null,
   "id": "a83efa4b-187f-48bf-8a0b-b826fd57849b",
   "metadata": {},
   "outputs": [],
   "source": []
  },
  {
   "cell_type": "code",
   "execution_count": null,
   "id": "a3293d28-fae7-4ab8-b2a7-44d8ce44de93",
   "metadata": {},
   "outputs": [],
   "source": []
  },
  {
   "cell_type": "code",
   "execution_count": null,
   "id": "688dc15a-6bdd-4d2e-931b-ac0553207981",
   "metadata": {},
   "outputs": [],
   "source": []
  }
 ],
 "metadata": {
  "kernelspec": {
   "display_name": "Python 3",
   "language": "python",
   "name": "python3"
  },
  "language_info": {
   "codemirror_mode": {
    "name": "ipython",
    "version": 3
   },
   "file_extension": ".py",
   "mimetype": "text/x-python",
   "name": "python",
   "nbconvert_exporter": "python",
   "pygments_lexer": "ipython3",
   "version": "3.7.9"
  }
 },
 "nbformat": 4,
 "nbformat_minor": 5
}
