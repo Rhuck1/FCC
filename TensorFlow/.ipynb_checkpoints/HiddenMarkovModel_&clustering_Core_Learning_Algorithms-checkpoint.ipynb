{
 "cells": [
  {
   "cell_type": "markdown",
   "id": "c626f2db-fdcb-48b0-8142-b869aa80331d",
   "metadata": {},
   "source": [
    "# CLUSTERING"
   ]
  },
  {
   "cell_type": "markdown",
   "id": "dda54c90-8652-4add-b37f-68b37f9e1862",
   "metadata": {},
   "source": [
    "Now that we've covered regression and classification it's time to talk about clustering data!\n",
    "\n",
    "Clustering is a Machine Learning technique that involves the grouping of data points. In theory, data points that are in the same group should have similar properties and/or features, while data points in different groups should have highly dissimilar properties and/or features. (https://towardsdatascience.com/the-5-clustering-algorithms-data-scientists-need-to-know-a36d136ef68)\n",
    "\n",
    "Unfortunalty there are issues with the current version of TensorFlow and the implementation for KMeans. This means we cannot use KMeans without writing the algorithm from scratch. We aren't quite at that level yet, so we'll just explain the basics of clustering for now.\n",
    "Basic Algorithm for K-Means.\n",
    "\n",
    "    Step 1: Randomly pick K points to place K centroids\n",
    "    Step 2: Assign all the data points to the centroids by distance. The closest centroid to a point is the one it is assigned to.\n",
    "    Step 3: Average all the points belonging to each centroid to find the middle of those clusters (center of mass). Place the corresponding centroids into that position.\n",
    "    Step 4: Reassign every point once again to the closest centroid.\n",
    "    Step 5: Repeat steps 3-4 until no point changes which centroid it belongs to.\n",
    "\n",
    "Please refer to the video for an explanation of KMeans clustering."
   ]
  },
  {
   "cell_type": "markdown",
   "id": "59249849-f233-482b-823b-7d4184557738",
   "metadata": {},
   "source": [
    "# HIDDEN MARKOV MODEL"
   ]
  },
  {
   "cell_type": "markdown",
   "id": "165be710-b628-46cd-ae76-d84f37db3476",
   "metadata": {},
   "source": [
    "\"The Hidden Markov Model is a finite set of states, each of which is associated with a (generally multidimensional) probability distribution []. Transitions among the states are governed by a set of probabilities called transition probabilities.\" (http://jedlik.phy.bme.hu/~gerjanos/HMM/node4.html)\n",
    "\n",
    "A hidden markov model works with probabilities to predict future events or states based on past events. In this section we will learn how to create a hidden markov model that can predict the weather.\n",
    "\n",
    "This section is based on the following TensorFlow tutorial. https://www.tensorflow.org/probability/api_docs/python/tfp/distributions/HiddenMarkovModel"
   ]
  },
  {
   "cell_type": "code",
   "execution_count": 1,
   "id": "9d2a880d-c06a-4dc5-90b7-0d808f18ba30",
   "metadata": {},
   "outputs": [],
   "source": [
    "import tensorflow_probability as tfp  # We are using a different module from tensorflow this time\n",
    "import tensorflow as tf"
   ]
  },
  {
   "cell_type": "markdown",
   "id": "f106e43e-a063-4606-8375-6f22fbaa8409",
   "metadata": {},
   "source": [
    "### Weather Model\n",
    "\n",
    "Taken direclty from the TensorFlow documentation (https://www.tensorflow.org/probability/api_docs/python/tfp/distributions/HiddenMarkovModel).\n",
    "\n",
    "We will model a simple weather system and try to predict the temperature on each day given the following information.\n",
    "\n",
    "    1) Cold days are encoded by a 0 and hot days are encoded by a 1.\n",
    "    2) The first day in our sequence has an 80% chance of being cold.\n",
    "    3) A cold day has a 30% chance of being followed by a hot day.\n",
    "    4) A hot day has a 20% chance of being followed by a cold day.\n",
    "    5) On each day the temperature is normally distributed with mean and standard deviation 0 and 5 on a cold day and mean and standard deviation 15 and 10 on a hot day.\n",
    "\n",
    "In this example, on a hot day the average temperature is 15 and ranges from 5 to 25"
   ]
  },
  {
   "cell_type": "markdown",
   "id": "322d9612-30a6-42e4-8050-5d86872ea694",
   "metadata": {},
   "source": [
    "TensorFlow Markov Method:\n",
    "<pre>\n",
    "tfp.distributions.HiddenMarkovModel(  \n",
    "    initial_distribution,  \n",
    "    transition_distribution,  \n",
    "    observation_distribution,  \n",
    "    num_steps,  \n",
    "    validate_args=False,  \n",
    "    allow_nan_stats=True,  \n",
    "    time_varying_transition_distribution=False,  \n",
    "    time_varying_observation_distribution=False,  \n",
    "    mask=None,  \n",
    "    name='HiddenMarkovModel'  \n",
    ")\n",
    "</pre>"
   ]
  },
  {
   "cell_type": "code",
   "execution_count": 2,
   "id": "395fe78d-61ab-4418-9b3f-ecd4c2196f33",
   "metadata": {},
   "outputs": [],
   "source": [
    "tfd = tfp.distributions\n",
    "\n",
    "# Since we have 2 states (cold and hot) we have 2 probabilities\n",
    "initial_distribution = tfd.Categorical(probs=[0.8, 0.2]) # Point 2 above\n",
    "transition_distribution = tfd.Categorical(probs=[[0.7, 0.3],\n",
    "                                                 [0.2, 0.8]]) # Refers to points 3 & 4 above\n",
    "# loc = mean & scale = std.dev\n",
    "observation_distribution = tfd.Normal(loc=[0., 15.], scale=[5., 10.]) # Refers to point 5 above"
   ]
  },
  {
   "cell_type": "code",
   "execution_count": 3,
   "id": "e032c728-329b-4e22-ab70-e77c2f5e3a93",
   "metadata": {},
   "outputs": [],
   "source": [
    "# steps = number of days we want to predict over\n",
    "model = tfd.HiddenMarkovModel(\n",
    "    initial_distribution=initial_distribution,\n",
    "    transition_distribution=transition_distribution,\n",
    "    observation_distribution=observation_distribution,\n",
    "    num_steps=7)"
   ]
  },
  {
   "cell_type": "code",
   "execution_count": 5,
   "id": "f47423f2-ada4-4e3e-8935-d6a844c1f1ba",
   "metadata": {},
   "outputs": [
    {
     "name": "stdout",
     "output_type": "stream",
     "text": [
      "[3.        5.9999995 7.4999995 8.25      8.625001  8.812501  8.90625  ]\n"
     ]
    }
   ],
   "source": [
    "mean = model.mean()\n",
    "\n",
    "# due to the way TensorFlow works on a lower level we need to evaluate part\n",
    "# part the graph from within a session to see the value of this tensor\n",
    "\n",
    "# in the new version of tensorflow we need to use tf.compat.v1.Session() rather than just tf.Session()\n",
    "with tf.compat.v1.Session() as sess:\n",
    "    print(mean.numpy())"
   ]
  },
  {
   "cell_type": "code",
   "execution_count": 6,
   "id": "0191de51-8c64-4120-b612-0defc9e368eb",
   "metadata": {},
   "outputs": [
    {
     "data": {
      "text/plain": [
       "<tf.Tensor: shape=(), dtype=float32, numpy=-19.855635>"
      ]
     },
     "execution_count": 6,
     "metadata": {},
     "output_type": "execute_result"
    }
   ],
   "source": [
    "model.log_prob(tf.zeros(shape=[7]))"
   ]
  },
  {
   "cell_type": "code",
   "execution_count": null,
   "id": "9c419e44-26c8-4397-9a3c-7f58a1f322a4",
   "metadata": {},
   "outputs": [],
   "source": []
  },
  {
   "cell_type": "code",
   "execution_count": null,
   "id": "2a4956cb-24a7-4da5-b44b-89b53c60f9da",
   "metadata": {},
   "outputs": [],
   "source": []
  },
  {
   "cell_type": "code",
   "execution_count": null,
   "id": "7bc310f2-13dc-4115-841b-e5a839530142",
   "metadata": {},
   "outputs": [],
   "source": []
  },
  {
   "cell_type": "code",
   "execution_count": null,
   "id": "0a343da6-3076-4ea7-a992-24b7d93d652b",
   "metadata": {},
   "outputs": [],
   "source": [
    "tfd = tfp.distributions\n",
    "\n",
    "# A simple weather model.\n",
    "\n",
    "# Represent a cold day with 0 and a hot day with 1.\n",
    "# Suppose the first day of a sequence has a 0.8 chance of being cold.\n",
    "# We can model this using the categorical distribution:\n",
    "\n",
    "initial_distribution = tfd.Categorical(probs=[0.8, 0.2])\n",
    "\n",
    "# Suppose a cold day has a 30% chance of being followed by a hot day\n",
    "# and a hot day has a 20% chance of being followed by a cold day.\n",
    "# We can model this as:\n",
    "\n",
    "transition_distribution = tfd.Categorical(probs=[[0.7, 0.3],\n",
    "                                                 [0.2, 0.8]])\n",
    "\n",
    "# Suppose additionally that on each day the temperature is\n",
    "# normally distributed with mean and standard deviation 0 and 5 on\n",
    "# a cold day and mean and standard deviation 15 and 10 on a hot day.\n",
    "# We can model this with:\n",
    "\n",
    "observation_distribution = tfd.Normal(loc=[0., 15.], scale=[5., 10.])\n",
    "\n",
    "# We can combine these distributions into a single week long\n",
    "# hidden Markov model with:\n",
    "\n",
    "model = tfd.HiddenMarkovModel(\n",
    "    initial_distribution=initial_distribution,\n",
    "    transition_distribution=transition_distribution,\n",
    "    observation_distribution=observation_distribution,\n",
    "    num_steps=7)\n",
    "\n",
    "# The expected temperatures for each day are given by:\n",
    "\n",
    "model.mean()  # shape [7], elements approach 9.0\n",
    "\n",
    "# The log pdf of a week of temperature 0 is:\n",
    "\n",
    "model.log_prob(tf.zeros(shape=[7]))\n"
   ]
  },
  {
   "cell_type": "code",
   "execution_count": null,
   "id": "1b73ed28-23ed-4cdc-b0c1-808058fb57d3",
   "metadata": {},
   "outputs": [],
   "source": []
  },
  {
   "cell_type": "code",
   "execution_count": null,
   "id": "4cb89c61-b874-457d-a35f-bc2a559a3ec0",
   "metadata": {},
   "outputs": [],
   "source": []
  }
 ],
 "metadata": {
  "kernelspec": {
   "display_name": "Python 3",
   "language": "python",
   "name": "python3"
  },
  "language_info": {
   "codemirror_mode": {
    "name": "ipython",
    "version": 3
   },
   "file_extension": ".py",
   "mimetype": "text/x-python",
   "name": "python",
   "nbconvert_exporter": "python",
   "pygments_lexer": "ipython3",
   "version": "3.7.9"
  }
 },
 "nbformat": 4,
 "nbformat_minor": 5
}
