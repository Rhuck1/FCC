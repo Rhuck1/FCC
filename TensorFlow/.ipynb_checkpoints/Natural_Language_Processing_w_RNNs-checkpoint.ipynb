{
 "cells": [
  {
   "cell_type": "markdown",
   "id": "a4a6ff7f-9d34-46f1-ac02-5b64fd099cec",
   "metadata": {},
   "source": [
    "### Natural Language Processing\n",
    "\n",
    "Natural Language Processing (NLP) is a discipline in computing that deals with the communication between natural (human) languages and computer languages. A common example of NLP is something like spellcheck or autocomplete. NLP is the field that focuses on how computers can understand and/or process natural/human languages.  \n",
    "\n",
    "#### Recurrent Neural Networks\n",
    "\n",
    "This new kind of neural network, a recurrent neural network (RNN), is much more capable of processing sequential data such as text or characters. And will be used to do the following:\n",
    "\n",
    "    Sentiment Analysis\n",
    "    Character Generation"
   ]
  },
  {
   "cell_type": "markdown",
   "id": "c40f3730-ed29-4b17-98b8-518e87c067ee",
   "metadata": {},
   "source": [
    "### Sequence Data\n",
    "\n",
    "Sequence data such as long chains of text, weather patterns, videos and really anything where the notion of a step or time is relevant needs to be processed and handled in a special way. When working with previous data, the notion of time or step was irrelevant.\n",
    "\n",
    "Textual data contains words that follow in a very specific meaningful order and we need to be able to keep track of each word and when it occurs in the data. Simply encoding an entire paragraph of text into one data point wouldn't provide a meaningful picture of the data and would be very difficult to do anything with. This is why we treat text as a sequence and process one word at a time. We will keep track of where each of these words appear and use that information to try to understand the meaning of pieces of text."
   ]
  },
  {
   "cell_type": "markdown",
   "id": "3289749c-c44b-4589-b352-1695129ed823",
   "metadata": {},
   "source": [
    "### Encoding Text\n",
    "\n",
    "ML models and NNs don't accept raw text data as an input. This means we must somehow encode our textual data to numeric values that our models can understand. There are many different ways of doing this and we will look at a few examples below.\n",
    "\n",
    "Consider the following two movie reviews:  \n",
    "\n",
    "    I thought the movie was going to be bad, but it was actually amazing!\n",
    "\n",
    "    I thought the movie was going to be amazing, but it was actually bad!\n",
    "\n",
    "Although these two setences are very similar we know that they have very different meanings. This is because of the ordering of words, a very important property of textual data.\n",
    "\n",
    "Now keep that in mind while we consider some different ways of encoding our textual data.  \n",
    "\n",
    "#### Bag of Words\n",
    "\n",
    "The easiest way to encode text data is to use a \"bag of words\". This technique encodes each word in a sentence with an integer and throws it into a collection that does not maintain the order of the words but does keep track of the frequency"
   ]
  },
  {
   "cell_type": "code",
   "execution_count": 1,
   "id": "e59db7c9-ad4b-450a-8c11-88d5812a9c71",
   "metadata": {},
   "outputs": [
    {
     "name": "stdout",
     "output_type": "stream",
     "text": [
      "{1: 2, 2: 3, 3: 3, 4: 3, 5: 1, 6: 1, 7: 1, 8: 1, 9: 1}\n",
      "{'this': 1, 'is': 2, 'a': 3, 'test': 4, 'to': 5, 'see': 6, 'if': 7, 'will': 8, 'work': 9}\n"
     ]
    }
   ],
   "source": [
    "# The python function below that encodes a string of text into bag of words. \n",
    "vocab = {} # Maps word to integer representation\n",
    "word_encoding = 1\n",
    "\n",
    "def bag_of_words(text):\n",
    "    global word_encoding\n",
    "    \n",
    "    words = text.lower().split(\" \") # Creates a list of all the words in the text, we'll assume there is no grammar in our text for this example\n",
    "    bag = {} # Stores all of the encodings and their frequency\n",
    "    \n",
    "    for word in words:\n",
    "        \n",
    "        if word in vocab:\n",
    "            encoding = vocab[word] # Get encoding from vocab\n",
    "        else:\n",
    "            vocab[word] = word_encoding\n",
    "            encoding = word_encoding\n",
    "            word_encoding += 1\n",
    "            \n",
    "        if encoding in bag:\n",
    "            bag[encoding] += 1\n",
    "        else:\n",
    "            bag[encoding] = 1\n",
    "            \n",
    "    return bag\n",
    "\n",
    "text = \"this is a test to see if this test will work is is test a a\"\n",
    "bag = bag_of_words(text)\n",
    "print(bag)\n",
    "print(vocab)"
   ]
  },
  {
   "cell_type": "code",
   "execution_count": 2,
   "id": "bef35ed4-edb0-4dd3-abee-4edc8c8bf46a",
   "metadata": {},
   "outputs": [
    {
     "name": "stdout",
     "output_type": "stream",
     "text": [
      "Positive: {10: 1, 11: 1, 12: 1, 13: 1, 14: 2, 15: 1, 5: 1, 16: 1, 17: 1, 18: 1, 19: 1, 20: 1, 21: 1}\n",
      "Negative: {10: 1, 11: 1, 12: 1, 13: 1, 14: 2, 15: 1, 5: 1, 16: 1, 21: 1, 18: 1, 19: 1, 20: 1, 17: 1} \n",
      "\n",
      "We can see that even though these sentences have a very different meaning they are encoded exaclty the same way\n"
     ]
    }
   ],
   "source": [
    "# Look at how this encoding works for the two sentences we showed above\n",
    "positive_review = \"I thought the movie was going to be bad but it was actually amazing\"\n",
    "negative_review = \"I thought the movie was going to be amazing but it was actually bad\"\n",
    "\n",
    "pos_bag = bag_of_words(positive_review)\n",
    "neg_bag = bag_of_words(negative_review)\n",
    "\n",
    "print(\"Positive:\", pos_bag)\n",
    "print(\"Negative:\", neg_bag, '\\n')\n",
    "\n",
    "print(\"We can see that even though these sentences have a very different meaning they are encoded exaclty the same way\")"
   ]
  },
  {
   "cell_type": "markdown",
   "id": "68346fdd-07ec-4c51-a279-2954ddae7e75",
   "metadata": {},
   "source": [
    "### Integer Encoding\n",
    "\n",
    "This next technique, integer encoding, involves representing each word or character in a sentence as a unique integer and maintaining the order of these words. This should fix the earlier problem where we lost the order of words."
   ]
  },
  {
   "cell_type": "code",
   "execution_count": 3,
   "id": "e8d276f1-b156-480d-9ef2-5be91685b92c",
   "metadata": {},
   "outputs": [
    {
     "name": "stdout",
     "output_type": "stream",
     "text": [
      "[1, 2, 3, 4, 5, 6, 7, 1, 4, 8, 9, 2, 2, 4, 3, 3]\n",
      "{'this': 1, 'is': 2, 'a': 3, 'test': 4, 'to': 5, 'see': 6, 'if': 7, 'will': 8, 'work': 9}\n"
     ]
    }
   ],
   "source": [
    "vocab = {}  \n",
    "word_encoding = 1\n",
    "\n",
    "def one_hot_encoding(text):\n",
    "    \n",
    "  global word_encoding\n",
    "\n",
    "  words = text.lower().split(\" \") \n",
    "  encoding = []  \n",
    "\n",
    "  for word in words:\n",
    "    if word in vocab:\n",
    "      code = vocab[word]  \n",
    "      encoding.append(code) \n",
    "    else:\n",
    "      vocab[word] = word_encoding\n",
    "      encoding.append(word_encoding)\n",
    "      word_encoding += 1\n",
    "  \n",
    "  return encoding\n",
    "\n",
    "text = \"this is a test to see if this test will work is is test a a\"\n",
    "encoding = one_hot_encoding(text)\n",
    "print(encoding)\n",
    "print(vocab)"
   ]
  },
  {
   "cell_type": "code",
   "execution_count": 4,
   "id": "1c9e4e85-bc8a-4de1-aa58-83cdd8497840",
   "metadata": {},
   "outputs": [
    {
     "name": "stdout",
     "output_type": "stream",
     "text": [
      "Positive: [10, 11, 12, 13, 14, 15, 5, 16, 17, 18, 19, 14, 20, 21]\n",
      "Negative: [10, 11, 12, 13, 14, 15, 5, 16, 21, 18, 19, 14, 20, 17] \n",
      "\n"
     ]
    }
   ],
   "source": [
    "# Let's look at one hot encoding on our movie reviews.\n",
    "positive_review = \"I thought the movie was going to be bad but it was actually amazing\"\n",
    "negative_review = \"I thought the movie was going to be amazing but it was actually bad\"\n",
    "\n",
    "pos_encode = one_hot_encoding(positive_review)\n",
    "neg_encode = one_hot_encoding(negative_review)\n",
    "\n",
    "print(\"Positive:\", pos_encode)\n",
    "print(\"Negative:\", neg_encode, '\\n')"
   ]
  },
  {
   "cell_type": "markdown",
   "id": "9214f0f2-b675-42ad-9598-69c36e6b37d2",
   "metadata": {},
   "source": [
    "Now we are keeping track of the order of words and we can tell where each occurs.  Ideally, we would like similar words to have similar labels and different words to have very different labels. For example, the words happy and joyful should probably have very similar labels so we can determine that they are similar. While words like horrible and amazing should probably have very different labels. The method we looked at above won't be able to do something like this for us. This could mean that the model will have a very difficult time determing if two words are similar or not which could result in some pretty drastic performace impacts."
   ]
  },
  {
   "cell_type": "markdown",
   "id": "52f60d6e-b7f1-4942-88da-bf247f1ff720",
   "metadata": {},
   "source": [
    "### Word Embeddings\n",
    "\n",
    "A third far superior method is word embeddings. This method keeps the order of words intact as well as encodes similar words with very similar labels. It attempts to not only encode the frequency and order of words but the meaning of those words in the sentence. It encodes each word as a dense vector that represents its context in the sentence.\n",
    "\n",
    "Unlike the previous techniques word embeddings are learned by looking at many different training examples. You can add what's called an embedding layer to the beggining of your model and while your model trains your embedding layer will learn the correct embeddings for words. You can also use pretrained embedding layers."
   ]
  },
  {
   "cell_type": "markdown",
   "id": "05dcb0d5-4d66-43a7-b16c-6dead1c115df",
   "metadata": {},
   "source": [
    "### Recurrent Neural Networks (RNN's)\n",
    "\n",
    "We have been using feed-forward neural networks. This means that all our data is fed forwards (all at once) from left to right through the network. This won't work well for processing text. A recurrent neural network is a network that contains a loop. A RNN will process one word at a time while maintaining an internal memory of what it's already seen. This will allow it to treat words differently based on their order in a sentence and to slowly build an understanding of the entire input, one word at a time.\n",
    "\n",
    "This is why we are treating our text data as a sequence! So that we can pass one word at a time to the RNN.\n",
    "\n",
    "Let's have a look at what a recurrent layer might look like:\n",
    "\n",
    "![alt text](https://colah.github.io/posts/2015-08-Understanding-LSTMs/img/RNN-unrolled.png)\n",
    "*Source: https://colah.github.io/posts/2015-08-Understanding-LSTMs/*\n",
    "\n",
    "Variable definitions:\n",
    "\n",
    "    ht: output at time t\n",
    "\n",
    "    xt: input at time t\n",
    "\n",
    "    A Recurrent Layer (loop)\n",
    "\n",
    "What this diagram is trying to illustrate is that a recurrent layer processes words or input one at a time in combination with the output from the previous iteration. So, as we progress further in the input sequence, we build a more complex understanding of the text as a whole.\n",
    "\n",
    "It can be effective at processing shorter sequences of text for simple problems but has many downfalls associated with it, one of them being that as text sequences get longer it gets increasingly difficult for the network to understand the text properly."
   ]
  },
  {
   "cell_type": "markdown",
   "id": "936edecb-2d9f-44fb-973c-fdd28ee301ee",
   "metadata": {},
   "source": [
    "### LSTM\n",
    "\n",
    "LSTM (Long Short-Term Memory) works similarly to the simple RNN layer but adds a way to access inputs from any timestep in the past. Whereas in our simple RNN layer input from previous timestamps gradually disappeared as we got further through the input, with an LSTM we have a long-term memory data structure storing all the previously seen inputs as well as when we saw them. This allows access to any previous value we want at any point in time. This adds to the complexity of our network and allows it to discover more useful relationships between inputs and when they appear."
   ]
  },
  {
   "cell_type": "markdown",
   "id": "52c20166-27d6-4b18-8919-94f00e65037d",
   "metadata": {},
   "source": [
    "### Sentiment Analysis\n",
    "\n",
    "The process of computationally identifying and categorizing opinions expressed in a piece of text, especially in order to determine whether the writer's attitude towards a particular topic, product, etc. is positive, negative, or neutral."
   ]
  },
  {
   "cell_type": "markdown",
   "id": "4150d557-5e41-431f-8d28-11d316248061",
   "metadata": {},
   "source": [
    "### Movie Review Dataset\n",
    "\n",
    "Classify movie reviews using the IMDB movie review dataset from keras, which contains 25,000 reviews. Each review is already preprocessed and has a label as either positive or negative. Each review is encoded by integers that represents how common a word is in the entire dataset. For example, a word encoded by the integer 3 means that it is the 3rd most common word in the dataset."
   ]
  },
  {
   "cell_type": "code",
   "execution_count": 5,
   "id": "a22ab985-12fa-42f4-9cc7-b00fd75408b5",
   "metadata": {},
   "outputs": [],
   "source": [
    "from keras.datasets import imdb\n",
    "import keras\n",
    "# from keras_preprocessing import sequence apparently this doesn't work\n",
    "from keras_preprocessing import sequence\n",
    "import tensorflow as tf\n",
    "import os\n",
    "import numpy as np\n",
    "\n",
    "VOCAB_SIZE = 88584\n",
    "\n",
    "MAXLEN = 250\n",
    "BATCH_SIZE = 64\n",
    "\n",
    "(train_data, train_labels), (test_data, test_labels) = imdb.load_data(num_words=VOCAB_SIZE)"
   ]
  },
  {
   "cell_type": "code",
   "execution_count": 6,
   "id": "e97cf1e9-1fba-4575-b49b-9d31854e852a",
   "metadata": {
    "scrolled": true,
    "tags": []
   },
   "outputs": [
    {
     "data": {
      "text/plain": [
       "189"
      ]
     },
     "execution_count": 6,
     "metadata": {},
     "output_type": "execute_result"
    }
   ],
   "source": [
    "len(train_data[1])"
   ]
  },
  {
   "cell_type": "markdown",
   "id": "f9af50d1-0aaa-486e-b1ad-0580e8b1361d",
   "metadata": {},
   "source": [
    "### Preprocessing\n",
    "\n",
    "The reviews are different lengths. We cannot pass different length data into our neural network. Therefore, we must make each review the same length. To do this we will follow the procedure below:\n",
    "\n",
    "    if the review is greater than 250 words then trim off the extra words\n",
    "    if the review is less than 250 words add the necessary amount of 0's to make it equal to 250\n",
    "\n",
    "Keras has a function that can do this for us:"
   ]
  },
  {
   "cell_type": "code",
   "execution_count": 7,
   "id": "e2bbaf03-e9ca-4f42-96f2-37a23e827643",
   "metadata": {},
   "outputs": [],
   "source": [
    "train_data = sequence.pad_sequences(train_data, MAXLEN)\n",
    "test_data = sequence.pad_sequences(test_data, MAXLEN)"
   ]
  },
  {
   "cell_type": "markdown",
   "id": "77294cad-649f-43eb-8471-7545d4629453",
   "metadata": {},
   "source": [
    "### Creating the Model\n",
    "\n",
    "We'll use a word embedding layer as the first layer in our model and add a LSTM layer afterwards that feeds into a dense node to get our predicted sentiment.\n",
    "\n",
    "32 stands for the output dimension of the vectors generated by the embedding layer. We can change this value if we'd like!"
   ]
  },
  {
   "cell_type": "code",
   "execution_count": 8,
   "id": "1de6ef68-83ac-4473-a07f-a1f38a27407e",
   "metadata": {},
   "outputs": [],
   "source": [
    "model = tf.keras.Sequential([\n",
    "    tf.keras.layers.Embedding(VOCAB_SIZE, 32),\n",
    "    tf.keras.layers.LSTM(32),\n",
    "    tf.keras.layers.Dense(1, activation=\"sigmoid\")\n",
    "])"
   ]
  },
  {
   "cell_type": "code",
   "execution_count": 9,
   "id": "5c5bf761-b627-42ca-b4a8-b5ef3bbd40d7",
   "metadata": {},
   "outputs": [
    {
     "name": "stdout",
     "output_type": "stream",
     "text": [
      "Model: \"sequential\"\n",
      "_________________________________________________________________\n",
      " Layer (type)                Output Shape              Param #   \n",
      "=================================================================\n",
      " embedding (Embedding)       (None, None, 32)          2834688   \n",
      "                                                                 \n",
      " lstm (LSTM)                 (None, 32)                8320      \n",
      "                                                                 \n",
      " dense (Dense)               (None, 1)                 33        \n",
      "                                                                 \n",
      "=================================================================\n",
      "Total params: 2,843,041\n",
      "Trainable params: 2,843,041\n",
      "Non-trainable params: 0\n",
      "_________________________________________________________________\n"
     ]
    }
   ],
   "source": [
    "model.summary()"
   ]
  },
  {
   "cell_type": "markdown",
   "id": "941084ca-0d3a-4f66-8a82-fa6a93e3bd17",
   "metadata": {},
   "source": [
    "### Training\n",
    "\n",
    "Now to compile and train the model"
   ]
  },
  {
   "cell_type": "code",
   "execution_count": 10,
   "id": "7a123901-da3f-4857-82bd-62dd12514b38",
   "metadata": {},
   "outputs": [
    {
     "name": "stdout",
     "output_type": "stream",
     "text": [
      "Epoch 1/10\n",
      "625/625 [==============================] - 87s 126ms/step - loss: 0.4549 - acc: 0.7772 - val_loss: 0.3915 - val_acc: 0.8308\n",
      "Epoch 2/10\n",
      "625/625 [==============================] - 75s 120ms/step - loss: 0.2580 - acc: 0.8996 - val_loss: 0.3084 - val_acc: 0.8822\n",
      "Epoch 3/10\n",
      "625/625 [==============================] - 65s 104ms/step - loss: 0.2012 - acc: 0.9252 - val_loss: 0.2828 - val_acc: 0.8900\n",
      "Epoch 4/10\n",
      "625/625 [==============================] - 68s 108ms/step - loss: 0.1624 - acc: 0.9424 - val_loss: 0.3059 - val_acc: 0.8704\n",
      "Epoch 5/10\n",
      "625/625 [==============================] - 80s 128ms/step - loss: 0.1323 - acc: 0.9531 - val_loss: 0.3079 - val_acc: 0.8778\n",
      "Epoch 6/10\n",
      "625/625 [==============================] - 78s 125ms/step - loss: 0.1069 - acc: 0.9636 - val_loss: 0.3237 - val_acc: 0.8772\n",
      "Epoch 7/10\n",
      "625/625 [==============================] - 89s 142ms/step - loss: 0.0916 - acc: 0.9704 - val_loss: 0.3405 - val_acc: 0.8762\n",
      "Epoch 8/10\n",
      "625/625 [==============================] - 81s 130ms/step - loss: 0.0738 - acc: 0.9769 - val_loss: 0.4271 - val_acc: 0.8822\n",
      "Epoch 9/10\n",
      "625/625 [==============================] - 85s 135ms/step - loss: 0.0646 - acc: 0.9796 - val_loss: 0.3846 - val_acc: 0.8728\n",
      "Epoch 10/10\n",
      "625/625 [==============================] - 78s 125ms/step - loss: 0.0548 - acc: 0.9833 - val_loss: 0.4301 - val_acc: 0.8636\n"
     ]
    }
   ],
   "source": [
    "model.compile(loss=\"binary_crossentropy\", optimizer=\"rmsprop\", metrics=[\"acc\"])\n",
    "history = model.fit(train_data, train_labels, epochs=10, validation_split=0.2)"
   ]
  },
  {
   "cell_type": "code",
   "execution_count": 11,
   "id": "e83e0bbc-3e62-4c1e-9255-b63430d79480",
   "metadata": {},
   "outputs": [
    {
     "name": "stdout",
     "output_type": "stream",
     "text": [
      "782/782 [==============================] - 15s 19ms/step - loss: 0.5048 - acc: 0.8448\n",
      "[0.5047945976257324, 0.8448399901390076]\n"
     ]
    }
   ],
   "source": [
    "results = model.evaluate(test_data, test_labels)\n",
    "print(results)"
   ]
  },
  {
   "cell_type": "markdown",
   "id": "fad116af-1370-4ec0-9219-5e8e769cf01e",
   "metadata": {},
   "source": [
    "### Making Predictions\n",
    "\n",
    "Using the network to make predictions on our reviews.\n",
    "\n",
    "Since our reviews are encoded, we need to convert any review that we write into that form so the network can understand it. To do that well load the encodings from the dataset and use them to encode our own data."
   ]
  },
  {
   "cell_type": "code",
   "execution_count": 12,
   "id": "bf29a34f-0da9-47f6-b683-fe24c63ca7ef",
   "metadata": {},
   "outputs": [
    {
     "name": "stdout",
     "output_type": "stream",
     "text": [
      "[  0   0   0   0   0   0   0   0   0   0   0   0   0   0   0   0   0   0\n",
      "   0   0   0   0   0   0   0   0   0   0   0   0   0   0   0   0   0   0\n",
      "   0   0   0   0   0   0   0   0   0   0   0   0   0   0   0   0   0   0\n",
      "   0   0   0   0   0   0   0   0   0   0   0   0   0   0   0   0   0   0\n",
      "   0   0   0   0   0   0   0   0   0   0   0   0   0   0   0   0   0   0\n",
      "   0   0   0   0   0   0   0   0   0   0   0   0   0   0   0   0   0   0\n",
      "   0   0   0   0   0   0   0   0   0   0   0   0   0   0   0   0   0   0\n",
      "   0   0   0   0   0   0   0   0   0   0   0   0   0   0   0   0   0   0\n",
      "   0   0   0   0   0   0   0   0   0   0   0   0   0   0   0   0   0   0\n",
      "   0   0   0   0   0   0   0   0   0   0   0   0   0   0   0   0   0   0\n",
      "   0   0   0   0   0   0   0   0   0   0   0   0   0   0   0   0   0   0\n",
      "   0   0   0   0   0   0   0   0   0   0   0   0   0   0   0   0   0   0\n",
      "   0   0   0   0   0   0   0   0   0   0   0   0   0   0   0   0   0   0\n",
      "   0   0   0   0   0   0   0   0   0  12  17  13  40 477  35 477]\n"
     ]
    }
   ],
   "source": [
    "word_index = imdb.get_word_index()\n",
    "\n",
    "def encode_text(text):\n",
    "    \n",
    "    tokens = keras.preprocessing.text.text_to_word_sequence(text)\n",
    "    tokens = [word_index[word] if word in word_index else 0 for word in tokens]\n",
    "    return sequence.pad_sequences([tokens], MAXLEN)[0]\n",
    "\n",
    "text = \"that movie was just amazing, so amazing\"\n",
    "encoded = encode_text(text)\n",
    "print(encoded)"
   ]
  },
  {
   "cell_type": "code",
   "execution_count": 13,
   "id": "5cf8ac42-ad99-45dc-b773-af01a0f74a65",
   "metadata": {},
   "outputs": [
    {
     "name": "stdout",
     "output_type": "stream",
     "text": [
      "that movie was just amazing so amazing\n"
     ]
    }
   ],
   "source": [
    "# Decode function\n",
    "reverse_word_index = {value: key for (key, value) in word_index.items()}\n",
    "\n",
    "def decode_integers(integers):\n",
    "    \n",
    "    PAD = 0\n",
    "    text = \"\"\n",
    "    for num in integers:\n",
    "        \n",
    "        if num != PAD:\n",
    "            text += reverse_word_index[num] + \" \"\n",
    "            \n",
    "    return text[:-1]\n",
    "\n",
    "print(decode_integers(encoded))"
   ]
  },
  {
   "cell_type": "code",
   "execution_count": 14,
   "id": "a6d25405-7950-455e-bfa4-4898274431fa",
   "metadata": {},
   "outputs": [
    {
     "name": "stdout",
     "output_type": "stream",
     "text": [
      "1/1 [==============================] - 1s 744ms/step\n",
      "[0.89384913]\n",
      "1/1 [==============================] - 0s 22ms/step\n",
      "[0.11018962]\n"
     ]
    }
   ],
   "source": [
    "# Time to make prediction\n",
    "def predict(text):\n",
    "    encoded_text = encode_text(text)\n",
    "    pred = np.zeros((1,250))\n",
    "    pred[0] = encoded_text\n",
    "    result = model.predict(pred)\n",
    "    print(result[0])\n",
    "    \n",
    "positive_review = \"That movie was so awesome! I really loved it and would watch it again because it was amazingly great\"\n",
    "predict(positive_review)\n",
    "\n",
    "negative_review = \"that movie sucked. I hated it and wouldn't watch it again. Was one of the worst things I've ever watched\"\n",
    "predict(negative_review)"
   ]
  },
  {
   "cell_type": "markdown",
   "id": "7473b144-a23d-41fb-b610-96fbac67941e",
   "metadata": {},
   "source": [
    "## RNN Play Generator"
   ]
  },
  {
   "cell_type": "code",
   "execution_count": 1,
   "id": "8da821e3-720c-4e9e-a4d5-bb04e71e86de",
   "metadata": {},
   "outputs": [],
   "source": [
    "import keras\n",
    "from keras_preprocessing import sequence\n",
    "import tensorflow as tf\n",
    "import os\n",
    "import numpy as np"
   ]
  },
  {
   "cell_type": "code",
   "execution_count": 2,
   "id": "334c27a6-9ab8-4f34-838c-5a634f056727",
   "metadata": {},
   "outputs": [],
   "source": [
    "# Dataset taking an extract from a Shakespeare play\n",
    "path_to_file = tf.keras.utils.get_file('shakespeare.txt', 'https://storage.googleapis.com/download.tensorflow.org/data/shakespeare.txt')"
   ]
  },
  {
   "cell_type": "code",
   "execution_count": 3,
   "id": "52af73c3-d9d3-4f17-8aed-82f27714de51",
   "metadata": {},
   "outputs": [
    {
     "name": "stdout",
     "output_type": "stream",
     "text": [
      "Length of text: 1115394 characters\n"
     ]
    }
   ],
   "source": [
    "# Read and decode for py2 compatibility\n",
    "text = open(path_to_file, 'rb').read().decode(encoding='utf-8')\n",
    "# Length of text is # of characters in it\n",
    "print(\"Length of text: {} characters\".format(len(text)))"
   ]
  },
  {
   "cell_type": "code",
   "execution_count": 4,
   "id": "5ce2e8ee-1c4e-4b61-abde-d1af9169e05e",
   "metadata": {},
   "outputs": [
    {
     "name": "stdout",
     "output_type": "stream",
     "text": [
      "First Citizen:\n",
      "Before we proceed any further, hear me speak.\n",
      "\n",
      "All:\n",
      "Speak, speak.\n",
      "\n",
      "First Citizen:\n",
      "You are all resolved rather to die than to famish?\n",
      "\n",
      "All:\n",
      "Resolved. resolved.\n",
      "\n",
      "First Citizen:\n",
      "First, you know Caius Marcius is chief enemy to the people.\n",
      "\n"
     ]
    }
   ],
   "source": [
    "# First 250 characters in text\n",
    "print(text[:250])"
   ]
  },
  {
   "cell_type": "markdown",
   "id": "e88edd9d-54f7-453c-bfa5-fce84ca25f74",
   "metadata": {},
   "source": [
    "### Encoding  \n"
   ]
  },
  {
   "cell_type": "code",
   "execution_count": 5,
   "id": "f41b1e75-b70a-4cbe-adc6-3da1db7cd522",
   "metadata": {},
   "outputs": [],
   "source": [
    "vocab = sorted(set(text))\n",
    "# Creating a mapping from unique characters to indicies\n",
    "char2idx = {u:i for i, u in enumerate(vocab)}\n",
    "idx2char = np.array(vocab)\n",
    "\n",
    "def text_to_int(text):\n",
    "    return np.array([char2idx[c] for c in text])\n",
    "\n",
    "text_as_int = text_to_int(text)"
   ]
  },
  {
   "cell_type": "code",
   "execution_count": 6,
   "id": "11609733-9c29-4ccc-927c-23aab3269c2b",
   "metadata": {},
   "outputs": [
    {
     "name": "stdout",
     "output_type": "stream",
     "text": [
      "Text: First Citizen\n",
      "Encoded: [18 47 56 57 58  1 15 47 58 47 64 43 52]\n"
     ]
    }
   ],
   "source": [
    "# Taking a look at how text is encoded\n",
    "print(\"Text:\", text[:13])\n",
    "print(\"Encoded:\", text_to_int(text[:13]))"
   ]
  },
  {
   "cell_type": "code",
   "execution_count": 7,
   "id": "e36660df-6e8d-4061-8bd6-812bf510d693",
   "metadata": {},
   "outputs": [
    {
     "name": "stdout",
     "output_type": "stream",
     "text": [
      "First Citizen\n"
     ]
    }
   ],
   "source": [
    "# Function that converts numeric values to text\n",
    "def int_to_text(ints):\n",
    "    \n",
    "    try:\n",
    "        ints = ints.numpy()\n",
    "    except:\n",
    "        pass\n",
    "    \n",
    "    return ''.join(idx2char[ints])\n",
    "\n",
    "print(int_to_text(text_as_int[:13]))"
   ]
  },
  {
   "cell_type": "markdown",
   "id": "5b3a4a50-a68e-41b7-b4bf-15052090ea30",
   "metadata": {},
   "source": [
    "### Creating Training Examples\n",
    "Our task is to feed the model a sequence and have it return the next character. Therfore we need to split our text data above into many shorter sequences that we can pass to the model as training examples. \n",
    "\n",
    "The training examples we prepapre will use a *seq_length* sequence as input and a *seq_length* sequence as the output where that sequence is the original sequence shifted one letter to the right. For example:\n",
    "\n",
    "```input: Hell | output: ello```\n",
    "\n",
    "Our first step will be to create a stream of characters from our text data."
   ]
  },
  {
   "cell_type": "code",
   "execution_count": 8,
   "id": "04f3d08b-e1ab-4bbc-a728-6db4d045593f",
   "metadata": {},
   "outputs": [],
   "source": [
    "seq_length = 100 # length of sequence for a training example\n",
    "examples_per_epoch = len(text) // (seq_length + 1)\n",
    "\n",
    "# Create training examples / targets\n",
    "char_dataset = tf.data.Dataset.from_tensor_slices(text_as_int)"
   ]
  },
  {
   "cell_type": "code",
   "execution_count": 9,
   "id": "e2f66611-c110-4cc6-b7f7-6c8863bd1b64",
   "metadata": {},
   "outputs": [],
   "source": [
    "# Using batch method to turn stream of characters into batches of desired length\n",
    "sequences = char_dataset.batch(seq_length + 1, drop_remainder=True)"
   ]
  },
  {
   "cell_type": "code",
   "execution_count": 10,
   "id": "8368a8c3-3943-41a4-9153-765c02629799",
   "metadata": {},
   "outputs": [],
   "source": [
    "# Using these sequences of length 101 and splitting them into input and output\n",
    "def split_input_target(chunk): # For the example \"hello\"\n",
    "    \n",
    "    input_text = chunk[:-1] # hell\n",
    "    target_text = chunk[1:] # ello\n",
    "    \n",
    "    return input_text, target_text # hell, ello\n",
    "\n",
    "dataset = sequences.map(split_input_target) # we use map to apply the above function to every entry"
   ]
  },
  {
   "cell_type": "code",
   "execution_count": 11,
   "id": "9d8513d2-7786-4218-8f77-7e89be3d5a71",
   "metadata": {},
   "outputs": [
    {
     "name": "stdout",
     "output_type": "stream",
     "text": [
      "\n",
      "\n",
      "EXAMPLE\n",
      "\n",
      "INPUT\n",
      "First Citizen:\n",
      "Before we proceed any further, hear me speak.\n",
      "\n",
      "All:\n",
      "Speak, speak.\n",
      "\n",
      "First Citizen:\n",
      "You\n",
      "\n",
      "OUTPUT\n",
      "irst Citizen:\n",
      "Before we proceed any further, hear me speak.\n",
      "\n",
      "All:\n",
      "Speak, speak.\n",
      "\n",
      "First Citizen:\n",
      "You \n",
      "\n",
      "\n",
      "EXAMPLE\n",
      "\n",
      "INPUT\n",
      "are all resolved rather to die than to famish?\n",
      "\n",
      "All:\n",
      "Resolved. resolved.\n",
      "\n",
      "First Citizen:\n",
      "First, you \n",
      "\n",
      "OUTPUT\n",
      "re all resolved rather to die than to famish?\n",
      "\n",
      "All:\n",
      "Resolved. resolved.\n",
      "\n",
      "First Citizen:\n",
      "First, you k\n"
     ]
    }
   ],
   "source": [
    "for x, y in dataset.take(2):\n",
    "    \n",
    "    print(\"\\n\\nEXAMPLE\\n\")\n",
    "    print(\"INPUT\")\n",
    "    print(int_to_text(x))\n",
    "    print(\"\\nOUTPUT\")\n",
    "    print(int_to_text(y))"
   ]
  },
  {
   "cell_type": "code",
   "execution_count": 13,
   "id": "8b192fbf-74f4-4aee-8040-d9ab9d1d857e",
   "metadata": {},
   "outputs": [],
   "source": [
    "# Now making training batches\n",
    "BATCH_SIZE = 64\n",
    "VOCAB_SIZE = len(vocab) # vocab is number of unique characters\n",
    "EMBEDDING_DIM = 256\n",
    "RNN_UNITS = 1024\n",
    "\n",
    "# Buffer size to shuffle the dataset\n",
    "# (TF data is designed to work with possibly infinite sequences, so if doesn't attempt to shuffle the entiere sequence in memory.\n",
    "# Instead, it maintains a buffer in which it shuffles elements)\n",
    "BUFFER_SIZE = 10000\n",
    "\n",
    "data = dataset.shuffle(BUFFER_SIZE).batch(BATCH_SIZE, drop_remainder=True)"
   ]
  },
  {
   "cell_type": "markdown",
   "id": "74bb7b77-ebd1-4acd-9529-cce13b555656",
   "metadata": {},
   "source": [
    "### Building the Model  \n",
    "\n",
    "We will use an embedding layer an LSTM and one dense layer that contains a node for each unique character in our training data. The dense layer will give us a probability distribution over all nodes."
   ]
  },
  {
   "cell_type": "code",
   "execution_count": 14,
   "id": "58498ac0-193a-45d6-99fd-ad0bff0cbe2f",
   "metadata": {},
   "outputs": [
    {
     "name": "stdout",
     "output_type": "stream",
     "text": [
      "Model: \"sequential\"\n",
      "_________________________________________________________________\n",
      " Layer (type)                Output Shape              Param #   \n",
      "=================================================================\n",
      " embedding (Embedding)       (64, None, 256)           16640     \n",
      "                                                                 \n",
      " lstm (LSTM)                 (64, None, 1024)          5246976   \n",
      "                                                                 \n",
      " dense (Dense)               (64, None, 65)            66625     \n",
      "                                                                 \n",
      "=================================================================\n",
      "Total params: 5,330,241\n",
      "Trainable params: 5,330,241\n",
      "Non-trainable params: 0\n",
      "_________________________________________________________________\n"
     ]
    }
   ],
   "source": [
    "def build_model(vocab_size, embedding_dim, rnn_units, batch_size):\n",
    "    \n",
    "    model = tf.keras.Sequential([\n",
    "        tf.keras.layers.Embedding(vocab_size, embedding_dim, batch_input_shape=[batch_size, None]),\n",
    "        tf.keras.layers.LSTM(rnn_units, return_sequences=True, stateful=True, recurrent_initializer='glorot_uniform'),\n",
    "        tf.keras.layers.Dense(vocab_size)\n",
    "    ])\n",
    "    \n",
    "    return model\n",
    "\n",
    "model = build_model(VOCAB_SIZE, EMBEDDING_DIM, RNN_UNITS, BATCH_SIZE)\n",
    "model.summary()"
   ]
  },
  {
   "cell_type": "markdown",
   "id": "ea4f0458-71be-4539-b452-29a711c3966c",
   "metadata": {},
   "source": [
    "### Creating a Loss Function\n",
    "\n",
    "This is because our model will output a (64, sequence_length, 65) shaped tensor that represents the probability distribution of each character at each timestep for every sequence in the batch.\n",
    "\n",
    "Before we do that let's look at a sample input and the output from our untrained model so we can understand what the model is giving us."
   ]
  },
  {
   "cell_type": "code",
   "execution_count": 15,
   "id": "a83efa4b-187f-48bf-8a0b-b826fd57849b",
   "metadata": {},
   "outputs": [
    {
     "name": "stdout",
     "output_type": "stream",
     "text": [
      "(64, 100, 65) # (batch_size, sequence_length, vocab_size)\n"
     ]
    }
   ],
   "source": [
    "for input_example_batch, target_example_batch in data.take(1):\n",
    "    \n",
    "    example_batch_predictions = model(input_example_batch) # Ask our model for a prediciton on our first batch of training data (64 entries)\n",
    "    print(example_batch_predictions.shape, \"# (batch_size, sequence_length, vocab_size)\") # print out the output shape"
   ]
  },
  {
   "cell_type": "code",
   "execution_count": 16,
   "id": "a3293d28-fae7-4ab8-b2a7-44d8ce44de93",
   "metadata": {
    "scrolled": true,
    "tags": []
   },
   "outputs": [
    {
     "name": "stdout",
     "output_type": "stream",
     "text": [
      "64\n",
      "tf.Tensor(\n",
      "[[[-2.40073918e-04  5.65870386e-03 -1.32625573e-03 ...  1.56423333e-03\n",
      "    1.45422621e-03  8.63431208e-03]\n",
      "  [-4.07788437e-03  9.99897905e-03  1.78325293e-03 ... -1.53490179e-03\n",
      "    7.73912296e-04  4.89088520e-03]\n",
      "  [-3.83778196e-03  1.17155174e-02  2.66875280e-03 ... -5.25466981e-04\n",
      "   -2.22303253e-03 -1.63884042e-03]\n",
      "  ...\n",
      "  [-3.88491247e-03  7.59562198e-03 -1.25855329e-02 ...  7.95450993e-03\n",
      "   -5.90412586e-04 -4.07665456e-03]\n",
      "  [-5.64752752e-03  5.54940570e-03 -8.41754861e-03 ...  4.07630764e-03\n",
      "   -8.48866301e-04 -6.83498476e-03]\n",
      "  [-2.37822277e-03  4.32361802e-03 -5.81740541e-03 ...  8.52877647e-03\n",
      "    3.00945132e-03 -4.55930363e-03]]\n",
      "\n",
      " [[ 3.90425627e-03 -5.54896193e-03  1.66038715e-03 ... -1.85030373e-03\n",
      "   -6.69948664e-03  4.65285219e-03]\n",
      "  [ 5.87949879e-04 -1.07935555e-02 -1.25170348e-03 ...  3.21747875e-03\n",
      "   -7.32085714e-03  1.19951344e-03]\n",
      "  [ 3.41203483e-03 -7.09052477e-03 -6.54258765e-04 ...  5.03049185e-03\n",
      "   -4.03929129e-03 -6.44218829e-03]\n",
      "  ...\n",
      "  [ 6.02898281e-03 -5.27307158e-04 -1.52328087e-03 ...  4.91755595e-03\n",
      "   -7.89195858e-03  4.12235921e-03]\n",
      "  [ 7.82248005e-03 -5.63205266e-03 -5.00100432e-04 ...  1.48226647e-03\n",
      "   -1.20430505e-02  7.88567774e-03]\n",
      "  [-7.36457994e-04 -1.77254522e-04 -8.22362024e-04 ...  5.30722085e-03\n",
      "   -8.41485336e-03  6.78815320e-03]]\n",
      "\n",
      " [[-4.74464428e-03  3.09316209e-03 -1.02099748e-02 ...  3.05845123e-03\n",
      "    1.60562317e-03 -4.81656753e-05]\n",
      "  [-3.24903941e-03  1.51120638e-03 -1.13587873e-02 ...  6.05638325e-03\n",
      "    1.51098170e-03 -2.17555556e-03]\n",
      "  [-5.52269537e-03 -1.48808444e-03 -4.12410405e-03 ...  3.95390112e-03\n",
      "    3.14776949e-03 -1.77399977e-03]\n",
      "  ...\n",
      "  [ 6.50886213e-03  1.19993798e-02 -1.68669806e-03 ...  7.90704228e-03\n",
      "   -6.52722223e-03  6.72500860e-03]\n",
      "  [ 9.49452538e-03  1.20192431e-02  1.76183879e-03 ...  1.80032244e-03\n",
      "   -9.60045867e-03  2.15274910e-03]\n",
      "  [ 3.45912855e-03  1.66654810e-02  2.70691887e-03 ...  1.83871656e-04\n",
      "   -6.99856877e-03  5.60581684e-04]]\n",
      "\n",
      " ...\n",
      "\n",
      " [[-2.65986007e-03 -1.62117183e-04  1.19847327e-03 ... -2.69476580e-03\n",
      "   -1.45633938e-03 -3.72767402e-03]\n",
      "  [-4.83371504e-03 -9.43231746e-04  2.47229193e-03 ... -1.59794011e-03\n",
      "    2.19860859e-03 -2.41918257e-03]\n",
      "  [-9.37954872e-04  4.46800608e-04  1.84072787e-03 ...  3.18016252e-03\n",
      "    3.95391695e-03 -1.37934578e-03]\n",
      "  ...\n",
      "  [-7.24215468e-04  4.93371952e-03  3.05770640e-03 ...  3.94177251e-03\n",
      "   -2.29377788e-03 -3.99000011e-03]\n",
      "  [ 2.73782620e-03 -1.62636803e-03  4.59036045e-03 ...  1.26492500e-03\n",
      "   -8.71543027e-03  2.69765826e-03]\n",
      "  [ 3.09629948e-03  2.71027675e-03  2.04273080e-03 ... -2.99058715e-03\n",
      "   -6.85807504e-03  5.23881149e-03]]\n",
      "\n",
      " [[ 2.14926852e-03  1.08893961e-03  1.81271578e-04 ...  5.01309568e-03\n",
      "    2.45849579e-03  8.14352068e-04]\n",
      "  [-3.58002447e-03  4.44650836e-03  3.17433779e-03 ...  9.31757130e-03\n",
      "   -4.66023944e-03 -2.39494955e-03]\n",
      "  [ 1.38943666e-04  3.34329205e-03 -3.79982230e-04 ...  1.22097712e-02\n",
      "   -7.12560816e-03 -3.03118979e-03]\n",
      "  ...\n",
      "  [-1.64059829e-03  4.61781211e-03  3.70698399e-04 ...  7.23818899e-04\n",
      "   -3.13323899e-03 -1.08237518e-02]\n",
      "  [-1.57009403e-03  1.72114279e-03 -3.10078822e-03 ...  4.02871799e-03\n",
      "   -3.10377288e-03 -9.81503259e-03]\n",
      "  [ 3.32271238e-03 -7.11990520e-03 -2.39992863e-04 ...  3.99820553e-03\n",
      "    1.56642694e-03 -1.08827483e-02]]\n",
      "\n",
      " [[-2.40073918e-04  5.65870386e-03 -1.32625573e-03 ...  1.56423333e-03\n",
      "    1.45422621e-03  8.63431208e-03]\n",
      "  [-3.13920970e-03  2.44089682e-03 -2.33067060e-03 ...  1.42570934e-04\n",
      "    5.67645021e-03  9.19773616e-03]\n",
      "  [ 2.45856238e-04  3.34758917e-03 -1.97350048e-03 ...  4.48395498e-03\n",
      "    5.81053784e-03  6.76917192e-03]\n",
      "  ...\n",
      "  [ 4.95400373e-03 -3.46498098e-03 -5.86374989e-03 ...  6.87305909e-03\n",
      "    5.26494533e-03 -3.64873325e-03]\n",
      "  [ 4.42293240e-04  2.30100704e-03 -3.40533024e-03 ...  3.10922437e-03\n",
      "    4.50290693e-03 -4.23397589e-03]\n",
      "  [-4.58220113e-03  5.38374390e-03 -9.37503530e-04 ...  8.39311164e-03\n",
      "   -2.21047783e-03 -5.78489807e-03]]], shape=(64, 100, 65), dtype=float32)\n"
     ]
    }
   ],
   "source": [
    "# We can see that the prediction is an array of 64 arrays, one for each entry in the batch\n",
    "print(len(example_batch_predictions))\n",
    "print(example_batch_predictions)"
   ]
  },
  {
   "cell_type": "code",
   "execution_count": 17,
   "id": "688dc15a-6bdd-4d2e-931b-ac0553207981",
   "metadata": {},
   "outputs": [
    {
     "name": "stdout",
     "output_type": "stream",
     "text": [
      "100\n",
      "tf.Tensor(\n",
      "[[-0.00024007  0.0056587  -0.00132626 ...  0.00156423  0.00145423\n",
      "   0.00863431]\n",
      " [-0.00407788  0.00999898  0.00178325 ... -0.0015349   0.00077391\n",
      "   0.00489089]\n",
      " [-0.00383778  0.01171552  0.00266875 ... -0.00052547 -0.00222303\n",
      "  -0.00163884]\n",
      " ...\n",
      " [-0.00388491  0.00759562 -0.01258553 ...  0.00795451 -0.00059041\n",
      "  -0.00407665]\n",
      " [-0.00564753  0.00554941 -0.00841755 ...  0.00407631 -0.00084887\n",
      "  -0.00683498]\n",
      " [-0.00237822  0.00432362 -0.00581741 ...  0.00852878  0.00300945\n",
      "  -0.0045593 ]], shape=(100, 65), dtype=float32)\n"
     ]
    }
   ],
   "source": [
    "# Examining one prediction\n",
    "pred = example_batch_predictions[0]\n",
    "print(len(pred))\n",
    "print(pred)\n",
    "# notice this is a 2d array of length 100, where each interior array is the prediction for the next character at each time step"
   ]
  },
  {
   "cell_type": "code",
   "execution_count": 18,
   "id": "9346f228-3d7f-4f80-b549-027ea976c1c2",
   "metadata": {},
   "outputs": [
    {
     "name": "stdout",
     "output_type": "stream",
     "text": [
      "65\n",
      "tf.Tensor(\n",
      "[-2.4007392e-04  5.6587039e-03 -1.3262557e-03 -3.3778360e-03\n",
      "  3.5233479e-03 -4.7552171e-03  3.0284431e-03  8.5967116e-04\n",
      " -4.0910142e-03 -1.0758353e-03  4.9894205e-03  3.4509052e-03\n",
      "  5.4136850e-03 -1.7062617e-03 -3.1406807e-03 -1.8450042e-03\n",
      " -1.1103868e-03  3.2157793e-03 -9.7111007e-04 -7.8186160e-04\n",
      " -1.1812057e-04 -3.0055488e-03  2.8801444e-03 -2.0800277e-03\n",
      "  1.2527285e-03  1.8488173e-03 -2.4159597e-03  3.2675136e-03\n",
      "  4.9185501e-03  3.2243831e-04 -3.9053075e-03 -2.1908493e-03\n",
      "  4.1230926e-03 -2.9011541e-03 -3.3543790e-03 -4.9227956e-03\n",
      " -2.5276188e-03 -2.6975251e-03  1.8863847e-03 -8.4085139e-03\n",
      " -1.2259097e-03  1.1843347e-03  9.2019211e-05  9.4565190e-04\n",
      " -9.7071670e-04  6.1746454e-04  1.8071678e-03 -4.4495477e-03\n",
      " -2.3340865e-03  3.1648995e-03 -6.8295863e-04 -1.0734217e-03\n",
      " -1.7698500e-03 -2.0032427e-03 -7.3590307e-03 -1.0479123e-03\n",
      "  4.4044740e-03  3.5392370e-03 -1.7312729e-03 -3.2039373e-03\n",
      "  2.6629725e-03 -5.6280564e-03  1.5642333e-03  1.4542262e-03\n",
      "  8.6343121e-03], shape=(65,), dtype=float32)\n"
     ]
    }
   ],
   "source": [
    "# Looking at a prediction at the first timestep\n",
    "time_pred = pred[0]\n",
    "print(len(time_pred))\n",
    "print(time_pred)\n",
    "# Its 65 values representing the probability of each character occuring next"
   ]
  },
  {
   "cell_type": "code",
   "execution_count": 19,
   "id": "12034339-9687-431a-bea6-2c3c6d70fe4f",
   "metadata": {},
   "outputs": [
    {
     "data": {
      "text/plain": [
       "\"Dp-tdqWx.FlljnETYgrtl p$URN$i.uIFW't BNWz&k yPVJGQnF.L;qjSJxuOMXkV&M RcsPgeLnp'fh;PhAn&!N-GH:C'HXPnK\""
      ]
     },
     "execution_count": 19,
     "metadata": {},
     "output_type": "execute_result"
    }
   ],
   "source": [
    "# If we want to determine the predicted character we need to sample the output distribution (pick a value based on probability)\n",
    "sampled_indices = tf.random.categorical(pred, num_samples=1)\n",
    "\n",
    "# Now we can reshape that array and convert all the integers to numbers to see the actual characters\n",
    "sampled_indices = np.reshape(sampled_indices, (1, -1))[0]\n",
    "predicted_chars = int_to_text(sampled_indices)\n",
    "\n",
    "predicted_chars # This is what the model predicted for training sequence 1"
   ]
  },
  {
   "cell_type": "code",
   "execution_count": null,
   "id": "37afc050-109b-4f47-b5d9-a1b3feb1de1f",
   "metadata": {},
   "outputs": [],
   "source": [
    "# Need to create a loss function that can compare the above output to the expected output and give us some numeric value how close the 2 were\n",
    "def loss(labels, logits):\n",
    "    \n",
    "    return tf.keras.losses.sparse_categorical_crossentropy(labels, logits, from_logits=True)"
   ]
  },
  {
   "cell_type": "markdown",
   "id": "fd844cf5-872c-48dc-b3ae-940dbecd739c",
   "metadata": {},
   "source": [
    "### Compiling the Model  \n",
    "\n"
   ]
  },
  {
   "cell_type": "code",
   "execution_count": null,
   "id": "9e3e15ee-6cdf-4036-b672-45e268d3a579",
   "metadata": {},
   "outputs": [],
   "source": []
  },
  {
   "cell_type": "code",
   "execution_count": null,
   "id": "3d4daae7-e074-4206-b4be-dbc5a13829aa",
   "metadata": {},
   "outputs": [],
   "source": []
  },
  {
   "cell_type": "code",
   "execution_count": null,
   "id": "61d9853c-8c41-4ff1-8135-2d7480a0c78d",
   "metadata": {},
   "outputs": [],
   "source": []
  }
 ],
 "metadata": {
  "kernelspec": {
   "display_name": "Python 3",
   "language": "python",
   "name": "python3"
  },
  "language_info": {
   "codemirror_mode": {
    "name": "ipython",
    "version": 3
   },
   "file_extension": ".py",
   "mimetype": "text/x-python",
   "name": "python",
   "nbconvert_exporter": "python",
   "pygments_lexer": "ipython3",
   "version": "3.7.9"
  }
 },
 "nbformat": 4,
 "nbformat_minor": 5
}
