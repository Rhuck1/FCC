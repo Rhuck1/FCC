{
 "cells": [
  {
   "cell_type": "markdown",
   "id": "a4a6ff7f-9d34-46f1-ac02-5b64fd099cec",
   "metadata": {},
   "source": [
    "### Natural Language Processing\n",
    "\n",
    "Natural Language Processing (NLP) is a discipline in computing that deals with the communication between natural (human) languages and computer languages. A common example of NLP is something like spellcheck or autocomplete. NLP is the field that focuses on how computers can understand and/or process natural/human languages.  \n",
    "\n",
    "#### Recurrent Neural Networks\n",
    "\n",
    "This new kind of neural network, a recurrent neural network (RNN), is much more capable of processing sequential data such as text or characters. And will be used to do the following:\n",
    "\n",
    "    Sentiment Analysis\n",
    "    Character Generation"
   ]
  },
  {
   "cell_type": "markdown",
   "id": "c40f3730-ed29-4b17-98b8-518e87c067ee",
   "metadata": {},
   "source": [
    "### Sequence Data\n",
    "\n",
    "Sequence data such as long chains of text, weather patterns, videos and really anything where the notion of a step or time is relevant needs to be processed and handled in a special way. When working with previous data, the notion of time or step was irrelevant.\n",
    "\n",
    "Textual data contains words that follow in a very specific meaningful order and we need to be able to keep track of each word and when it occurs in the data. Simply encoding an entire paragraph of text into one data point wouldn't provide a meaningful picture of the data and would be very difficult to do anything with. This is why we treat text as a sequence and process one word at a time. We will keep track of where each of these words appear and use that information to try to understand the meaning of pieces of text."
   ]
  },
  {
   "cell_type": "markdown",
   "id": "3289749c-c44b-4589-b352-1695129ed823",
   "metadata": {},
   "source": [
    "### Encoding Text\n",
    "\n",
    "ML models and NNs don't accept raw text data as an input. This means we must somehow encode our textual data to numeric values that our models can understand. There are many different ways of doing this and we will look at a few examples below.\n",
    "\n",
    "Consider the following two movie reviews:  \n",
    "\n",
    "    I thought the movie was going to be bad, but it was actually amazing!\n",
    "\n",
    "    I thought the movie was going to be amazing, but it was actually bad!\n",
    "\n",
    "Although these two setences are very similar we know that they have very different meanings. This is because of the ordering of words, a very important property of textual data.\n",
    "\n",
    "Now keep that in mind while we consider some different ways of encoding our textual data.  \n",
    "\n",
    "#### Bag of Words\n",
    "\n",
    "The easiest way to encode text data is to use a \"bag of words\". This technique encodes each word in a sentence with an integer and throws it into a collection that does not maintain the order of the words but does keep track of the frequency"
   ]
  },
  {
   "cell_type": "code",
   "execution_count": 1,
   "id": "e59db7c9-ad4b-450a-8c11-88d5812a9c71",
   "metadata": {},
   "outputs": [
    {
     "name": "stdout",
     "output_type": "stream",
     "text": [
      "{1: 2, 2: 3, 3: 3, 4: 3, 5: 1, 6: 1, 7: 1, 8: 1, 9: 1}\n",
      "{'this': 1, 'is': 2, 'a': 3, 'test': 4, 'to': 5, 'see': 6, 'if': 7, 'will': 8, 'work': 9}\n"
     ]
    }
   ],
   "source": [
    "# The python function below that encodes a string of text into bag of words. \n",
    "vocab = {} # Maps word to integer representation\n",
    "word_encoding = 1\n",
    "\n",
    "def bag_of_words(text):\n",
    "    global word_encoding\n",
    "    \n",
    "    words = text.lower().split(\" \") # Creates a list of all the words in the text, we'll assume there is no grammar in our text for this example\n",
    "    bag = {} # Stores all of the encodings and their frequency\n",
    "    \n",
    "    for word in words:\n",
    "        \n",
    "        if word in vocab:\n",
    "            encoding = vocab[word] # Get encoding from vocab\n",
    "        else:\n",
    "            vocab[word] = word_encoding\n",
    "            encoding = word_encoding\n",
    "            word_encoding += 1\n",
    "            \n",
    "        if encoding in bag:\n",
    "            bag[encoding] += 1\n",
    "        else:\n",
    "            bag[encoding] = 1\n",
    "            \n",
    "    return bag\n",
    "\n",
    "text = \"this is a test to see if this test will work is is test a a\"\n",
    "bag = bag_of_words(text)\n",
    "print(bag)\n",
    "print(vocab)"
   ]
  },
  {
   "cell_type": "code",
   "execution_count": 13,
   "id": "bef35ed4-edb0-4dd3-abee-4edc8c8bf46a",
   "metadata": {},
   "outputs": [
    {
     "name": "stdout",
     "output_type": "stream",
     "text": [
      "Positive: {10: 1, 11: 1, 12: 1, 13: 1, 14: 2, 15: 1, 5: 1, 16: 1, 17: 1, 18: 1, 19: 1, 20: 1, 21: 1}\n",
      "Negative: {10: 1, 11: 1, 12: 1, 13: 1, 14: 2, 15: 1, 5: 1, 16: 1, 21: 1, 18: 1, 19: 1, 20: 1, 17: 1} \n",
      "\n",
      "We can see that even though these sentences have a very different meaning they are encoded exaclty the same way\n"
     ]
    }
   ],
   "source": [
    "# Look at how this encoding works for the two sentences we showed above\n",
    "positive_review = \"I thought the movie was going to be bad but it was actually amazing\"\n",
    "negative_review = \"I thought the movie was going to be amazing but it was actually bad\"\n",
    "\n",
    "pos_bag = bag_of_words(positive_review)\n",
    "neg_bag = bag_of_words(negative_review)\n",
    "\n",
    "print(\"Positive:\", pos_bag)\n",
    "print(\"Negative:\", neg_bag, '\\n')\n",
    "\n",
    "print(\"We can see that even though these sentences have a very different meaning they are encoded exaclty the same way\")"
   ]
  },
  {
   "cell_type": "markdown",
   "id": "68346fdd-07ec-4c51-a279-2954ddae7e75",
   "metadata": {},
   "source": [
    "### Integer Encoding\n",
    "\n",
    "This next technique, integer encoding, involves representing each word or character in a sentence as a unique integer and maintaining the order of these words. This should fix the earlier problem where we lost the order of words."
   ]
  },
  {
   "cell_type": "code",
   "execution_count": 14,
   "id": "e8d276f1-b156-480d-9ef2-5be91685b92c",
   "metadata": {},
   "outputs": [
    {
     "name": "stdout",
     "output_type": "stream",
     "text": [
      "[1, 2, 3, 4, 5, 6, 7, 1, 4, 8, 9, 2, 2, 4, 3, 3]\n",
      "{'this': 1, 'is': 2, 'a': 3, 'test': 4, 'to': 5, 'see': 6, 'if': 7, 'will': 8, 'work': 9}\n"
     ]
    }
   ],
   "source": [
    "vocab = {}  \n",
    "word_encoding = 1\n",
    "\n",
    "def one_hot_encoding(text):\n",
    "    \n",
    "  global word_encoding\n",
    "\n",
    "  words = text.lower().split(\" \") \n",
    "  encoding = []  \n",
    "\n",
    "  for word in words:\n",
    "    if word in vocab:\n",
    "      code = vocab[word]  \n",
    "      encoding.append(code) \n",
    "    else:\n",
    "      vocab[word] = word_encoding\n",
    "      encoding.append(word_encoding)\n",
    "      word_encoding += 1\n",
    "  \n",
    "  return encoding\n",
    "\n",
    "text = \"this is a test to see if this test will work is is test a a\"\n",
    "encoding = one_hot_encoding(text)\n",
    "print(encoding)\n",
    "print(vocab)"
   ]
  },
  {
   "cell_type": "code",
   "execution_count": 16,
   "id": "1c9e4e85-bc8a-4de1-aa58-83cdd8497840",
   "metadata": {},
   "outputs": [
    {
     "name": "stdout",
     "output_type": "stream",
     "text": [
      "Positive: [10, 11, 12, 13, 14, 15, 5, 16, 17, 18, 19, 14, 20, 21]\n",
      "Negative: [10, 11, 12, 13, 14, 15, 5, 16, 21, 18, 19, 14, 20, 17] \n",
      "\n"
     ]
    }
   ],
   "source": [
    "# Let's look at one hot encoding on our movie reviews.\n",
    "positive_review = \"I thought the movie was going to be bad but it was actually amazing\"\n",
    "negative_review = \"I thought the movie was going to be amazing but it was actually bad\"\n",
    "\n",
    "pos_encode = one_hot_encoding(positive_review)\n",
    "neg_encode = one_hot_encoding(negative_review)\n",
    "\n",
    "print(\"Positive:\", pos_encode)\n",
    "print(\"Negative:\", neg_encode, '\\n')"
   ]
  },
  {
   "cell_type": "markdown",
   "id": "9214f0f2-b675-42ad-9598-69c36e6b37d2",
   "metadata": {},
   "source": [
    "Now we are keeping track of the order of words and we can tell where each occurs.  Ideally, we would like similar words to have similar labels and different words to have very different labels. For example, the words happy and joyful should probably have very similar labels so we can determine that they are similar. While words like horrible and amazing should probably have very different labels. The method we looked at above won't be able to do something like this for us. This could mean that the model will have a very difficult time determing if two words are similar or not which could result in some pretty drastic performace impacts."
   ]
  },
  {
   "cell_type": "markdown",
   "id": "52f60d6e-b7f1-4942-88da-bf247f1ff720",
   "metadata": {},
   "source": [
    "### Word Embeddings\n",
    "\n",
    "A third far superior method is word embeddings. This method keeps the order of words intact as well as encodes similar words with very similar labels. It attempts to not only encode the frequency and order of words but the meaning of those words in the sentence. It encodes each word as a dense vector that represents its context in the sentence.\n",
    "\n",
    "Unlike the previous techniques word embeddings are learned by looking at many different training examples. You can add what's called an embedding layer to the beggining of your model and while your model trains your embedding layer will learn the correct embeddings for words. You can also use pretrained embedding layers."
   ]
  },
  {
   "cell_type": "markdown",
   "id": "05dcb0d5-4d66-43a7-b16c-6dead1c115df",
   "metadata": {},
   "source": [
    "### Recurrent Neural Networks (RNN's)\n",
    "\n",
    "We have been using feed-forward neural networks. This means that all our data is fed forwards (all at once) from left to right through the network. This won't work well for processing text. A recurrent neural network is a network that contains a loop. A RNN will process one word at a time while maintaining an internal memory of what it's already seen. This will allow it to treat words differently based on their order in a sentence and to slowly build an understanding of the entire input, one word at a time.\n",
    "\n",
    "This is why we are treating our text data as a sequence! So that we can pass one word at a time to the RNN.\n",
    "\n",
    "Let's have a look at what a recurrent layer might look like:\n",
    "\n",
    "![alt text](https://colah.github.io/posts/2015-08-Understanding-LSTMs/img/RNN-unrolled.png)\n",
    "*Source: https://colah.github.io/posts/2015-08-Understanding-LSTMs/*\n",
    "\n",
    "Variable definitions:\n",
    "\n",
    "    ht: output at time t\n",
    "\n",
    "    xt: input at time t\n",
    "\n",
    "    A Recurrent Layer (loop)\n",
    "\n",
    "What this diagram is trying to illustrate is that a recurrent layer processes words or input one at a time in combination with the output from the previous iteration. So, as we progress further in the input sequence, we build a more complex understanding of the text as a whole.\n",
    "\n",
    "It can be effective at processing shorter sequences of text for simple problems but has many downfalls associated with it, one of them being that as text sequences get longer it gets increasingly difficult for the network to understand the text properly."
   ]
  },
  {
   "cell_type": "markdown",
   "id": "936edecb-2d9f-44fb-973c-fdd28ee301ee",
   "metadata": {},
   "source": [
    "### LSTM\n",
    "\n",
    "LSTM (Long Short-Term Memory) works similarly to the simple RNN layer but adds a way to access inputs from any timestep in the past. Whereas in our simple RNN layer input from previous timestamps gradually disappeared as we got further through the input, with an LSTM we have a long-term memory data structure storing all the previously seen inputs as well as when we saw them. This allows access to any previous value we want at any point in time. This adds to the complexity of our network and allows it to discover more useful relationships between inputs and when they appear."
   ]
  },
  {
   "cell_type": "markdown",
   "id": "52c20166-27d6-4b18-8919-94f00e65037d",
   "metadata": {},
   "source": [
    "### Sentiment Analysis\n",
    "\n",
    "The process of computationally identifying and categorizing opinions expressed in a piece of text, especially in order to determine whether the writer's attitude towards a particular topic, product, etc. is positive, negative, or neutral."
   ]
  },
  {
   "cell_type": "markdown",
   "id": "4150d557-5e41-431f-8d28-11d316248061",
   "metadata": {},
   "source": [
    "### Movie Review Dataset\n",
    "\n",
    "Classify movie reviews using the IMDB movie review dataset from keras, which contains 25,000 reviews. Each review is already preprocessed and has a label as either positive or negative. Each review is encoded by integers that represents how common a word is in the entire dataset. For example, a word encoded by the integer 3 means that it is the 3rd most common word in the dataset."
   ]
  },
  {
   "cell_type": "code",
   "execution_count": 17,
   "id": "a22ab985-12fa-42f4-9cc7-b00fd75408b5",
   "metadata": {},
   "outputs": [
    {
     "name": "stdout",
     "output_type": "stream",
     "text": [
      "Downloading data from https://storage.googleapis.com/tensorflow/tf-keras-datasets/imdb.npz\n",
      "17464789/17464789 [==============================] - 2s 0us/step\n"
     ]
    }
   ],
   "source": [
    "from keras.datasets import imdb\n",
    "from keras.preprocessing import sequence\n",
    "import tensorflow as tf\n",
    "import os\n",
    "import numpy as np\n",
    "\n",
    "VOCAB_SIZE = 88584\n",
    "\n",
    "MAXLEN = 250\n",
    "BATCH_SIZE = 64\n",
    "\n",
    "(train_data, train_labels), (test_data, test_labels) = imdb.load_data(num_words=VOCAB_SIZE)"
   ]
  },
  {
   "cell_type": "code",
   "execution_count": 20,
   "id": "e97cf1e9-1fba-4575-b49b-9d31854e852a",
   "metadata": {
    "scrolled": true,
    "tags": []
   },
   "outputs": [
    {
     "data": {
      "text/plain": [
       "189"
      ]
     },
     "execution_count": 20,
     "metadata": {},
     "output_type": "execute_result"
    }
   ],
   "source": [
    "len(train_data[1])"
   ]
  },
  {
   "cell_type": "markdown",
   "id": "f9af50d1-0aaa-486e-b1ad-0580e8b1361d",
   "metadata": {},
   "source": [
    "### Preprocessing\n",
    "\n",
    "The reviews are different lengths. We cannot pass different length data into our neural network. Therefore, we must make each review the same length. To do this we will follow the procedure below:\n",
    "\n",
    "    if the review is greater than 250 words then trim off the extra words\n",
    "    if the review is less than 250 words add the necessary amount of 0's to make it equal to 250.\n",
    "\n",
    "Keras has a function that can do this for us:"
   ]
  },
  {
   "cell_type": "code",
   "execution_count": null,
   "id": "e2bbaf03-e9ca-4f42-96f2-37a23e827643",
   "metadata": {},
   "outputs": [],
   "source": [
    "train_data"
   ]
  },
  {
   "cell_type": "code",
   "execution_count": null,
   "id": "c97524f4-3045-421e-82be-f3b4b511b08f",
   "metadata": {},
   "outputs": [],
   "source": []
  },
  {
   "cell_type": "code",
   "execution_count": null,
   "id": "1de6ef68-83ac-4473-a07f-a1f38a27407e",
   "metadata": {},
   "outputs": [],
   "source": []
  },
  {
   "cell_type": "code",
   "execution_count": null,
   "id": "86b44469-707e-4ec3-9393-03fe0e265df6",
   "metadata": {},
   "outputs": [],
   "source": []
  },
  {
   "cell_type": "code",
   "execution_count": null,
   "id": "0368fce3-c2ba-43f1-a73c-a821ac808217",
   "metadata": {},
   "outputs": [],
   "source": []
  },
  {
   "cell_type": "code",
   "execution_count": null,
   "id": "a83efa4b-187f-48bf-8a0b-b826fd57849b",
   "metadata": {},
   "outputs": [],
   "source": []
  },
  {
   "cell_type": "code",
   "execution_count": null,
   "id": "a3293d28-fae7-4ab8-b2a7-44d8ce44de93",
   "metadata": {},
   "outputs": [],
   "source": []
  },
  {
   "cell_type": "code",
   "execution_count": null,
   "id": "688dc15a-6bdd-4d2e-931b-ac0553207981",
   "metadata": {},
   "outputs": [],
   "source": []
  }
 ],
 "metadata": {
  "kernelspec": {
   "display_name": "Python 3",
   "language": "python",
   "name": "python3"
  },
  "language_info": {
   "codemirror_mode": {
    "name": "ipython",
    "version": 3
   },
   "file_extension": ".py",
   "mimetype": "text/x-python",
   "name": "python",
   "nbconvert_exporter": "python",
   "pygments_lexer": "ipython3",
   "version": "3.7.9"
  }
 },
 "nbformat": 4,
 "nbformat_minor": 5
}
