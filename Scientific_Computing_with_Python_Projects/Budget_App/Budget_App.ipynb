{
 "cells": [
  {
   "cell_type": "markdown",
   "id": "f50c38a8-51fc-420d-b72e-8abce1875582",
   "metadata": {},
   "source": [
    "'''\n",
    "Complete the Category class in budget.py. It should be able to instantiate objects based on different budget categories like food, clothing, and entertainment. When objects are created, they are passed in the name of the category. The class should have an instance variable called ledger that is a list. The class should also contain the following methods:\n",
    "\n",
    "    A deposit method that accepts an amount and description. If no description is given, it should default to an empty string. The method should append an object to the ledger list in the form of {\"amount\": amount, \"description\": description}.\n",
    "    A withdraw method that is similar to the deposit method, but the amount passed in should be stored in the ledger as a negative number. If there are not enough funds, nothing should be added to the ledger. This method should return True if the withdrawal took place, and False otherwise.\n",
    "    A get_balance method that returns the current balance of the budget category based on the deposits and withdrawals that have occurred.\n",
    "    A transfer method that accepts an amount and another budget category as arguments. The method should add a withdrawal with the amount and the description \"Transfer to [Destination Budget Category]\". The method should then add a deposit to the other budget category with the amount and the description \"Transfer from [Source Budget Category]\". If there are not enough funds, nothing should be added to either ledgers. This method should return True if the transfer took place, and False otherwise.\n",
    "    A check_funds method that accepts an amount as an argument. It returns False if the amount is greater than the balance of the budget category and returns True otherwise. This method should be used by both the withdraw method and transfer method.\n",
    "\n",
    "When the budget object is printed it should display:\n",
    "\n",
    "    A title line of 30 characters where the name of the category is centered in a line of * characters.\n",
    "    A list of the items in the ledger. Each line should show the description and amount. The first 23 characters of the description should be displayed, then the amount. The amount should be right aligned, contain two decimal places, and display a maximum of 7 characters.\n",
    "    A line displaying the category total.\n",
    "\n",
    "Here is an example of the output:\n",
    "\n",
    "*************Food*************\n",
    "initial deposit        1000.00\n",
    "groceries               -10.15\n",
    "restaurant and more foo -15.89\n",
    "Transfer to Clothing    -50.00\n",
    "Total: 923.96\n",
    "\n",
    "Besides the Category class, create a function (outside of the class) called create_spend_chart that takes a list of categories as an argument. It should return a string that is a bar chart.\n",
    "\n",
    "The chart should show the percentage spent in each category passed in to the function. The percentage spent should be calculated only with withdrawals and not with deposits. Down the left side of the chart should be labels 0 - 100. The \"bars\" in the bar chart should be made out of the \"o\" character. The height of each bar should be rounded down to the nearest 10. The horizontal line below the bars should go two spaces past the final bar. Each category name should be written vertically below the bar. There should be a title at the top that says \"Percentage spent by category\".\n",
    "\n",
    "This function will be tested with up to four categories.\n",
    "\n",
    "Look at the example output below very closely and make sure the spacing of the output matches the example exactly.\n",
    "\n",
    "Percentage spent by category\n",
    "100|          \n",
    " 90|          \n",
    " 80|          \n",
    " 70|          \n",
    " 60| o        \n",
    " 50| o        \n",
    " 40| o        \n",
    " 30| o        \n",
    " 20| o  o     \n",
    " 10| o  o  o  \n",
    "  0| o  o  o  \n",
    "    ----------\n",
    "     F  C  A  \n",
    "     o  l  u  \n",
    "     o  o  t  \n",
    "     d  t  o  \n",
    "        h     \n",
    "        i     \n",
    "        n     \n",
    "        g     \n",
    "\n",
    "'''"
   ]
  },
  {
   "cell_type": "code",
   "execution_count": null,
   "id": "eb187dbb-6b93-46d5-9939-31a557200d2b",
   "metadata": {},
   "outputs": [],
   "source": []
  },
  {
   "cell_type": "code",
   "execution_count": 3,
   "id": "7ee97b7e-75e8-476d-8e11-c7b719dcf69b",
   "metadata": {},
   "outputs": [
    {
     "name": "stdout",
     "output_type": "stream",
     "text": [
      "!Tickles!!\n",
      "\n"
     ]
    }
   ],
   "source": [
    "description = \"Tickles\"\n",
    "print(description.center(10, \"!\") + \"\\n\")"
   ]
  },
  {
   "cell_type": "code",
   "execution_count": 4,
   "id": "0c138aa0-9eb7-41e6-97c4-52073a5b9bc0",
   "metadata": {},
   "outputs": [],
   "source": [
    "ledger = [2,4,6]\n",
    "def get_balance():\n",
    "    tot_balance = 0.0\n",
    "    for item in ledger:\n",
    "        tot_balance += item\n",
    "    return tot_balance"
   ]
  },
  {
   "cell_type": "code",
   "execution_count": 5,
   "id": "92e05de0-be82-4d74-b979-f7759c436759",
   "metadata": {},
   "outputs": [
    {
     "data": {
      "text/plain": [
       "12.0"
      ]
     },
     "execution_count": 5,
     "metadata": {},
     "output_type": "execute_result"
    }
   ],
   "source": [
    "get_balance()"
   ]
  },
  {
   "cell_type": "code",
   "execution_count": 12,
   "id": "1c35d70b-9b6c-42a1-ac21-11cb00c1a723",
   "metadata": {},
   "outputs": [],
   "source": [
    "ledger = [2,4,6]\n",
    "def get_bal():\n",
    "    tot_bal = float(sum([item for item in ledger]))\n",
    "    return float(tot_bal)"
   ]
  },
  {
   "cell_type": "code",
   "execution_count": 13,
   "id": "38f9f057-2d46-4e86-9885-d091f13854d2",
   "metadata": {},
   "outputs": [
    {
     "data": {
      "text/plain": [
       "12.0"
      ]
     },
     "execution_count": 13,
     "metadata": {},
     "output_type": "execute_result"
    }
   ],
   "source": [
    "get_bal()"
   ]
  },
  {
   "cell_type": "code",
   "execution_count": 80,
   "id": "7d2429fa-0269-497e-b907-ff3dedbb59be",
   "metadata": {},
   "outputs": [],
   "source": [
    "def repr():\n",
    "    \n",
    "    ledger_list = [\n",
    "    {\"amount\":1000, \"description\": \"initial deposit\"},\n",
    "    {\"amount\":10.15, \"description\": \"groceries\"},\n",
    "    {\"amount\":15.89, \"description\": \"restaurant and more food for desert\"}]\n",
    "\n",
    "    description = \"food\"\n",
    "        \n",
    "    tot_balance = float(sum([item['amount'] for item in ledger_list]))\n",
    "    header = f\"{description:*^30}\\n\"\n",
    "    ledger = \"\"\n",
    "    for item in ledger_list:\n",
    "        # format description and amount\n",
    "        line_description = f\"{item['description']:<23}\"\n",
    "        line_amount = f\"{item['amount']:>7.2f}\"\n",
    "\n",
    "        # Truncate ledger description and amount to 23 and 7 characters respectively\n",
    "        ledger += f\"{line_description[:23]}{line_amount[:7]}\\n\"\n",
    "    total = f\"Total: {tot_balance}\" # :.2f\n",
    "    \n",
    "    return header + ledger + total"
   ]
  },
  {
   "cell_type": "code",
   "execution_count": 81,
   "id": "fb770ab5-fa83-4169-90ad-ae4075032ca4",
   "metadata": {},
   "outputs": [
    {
     "name": "stdout",
     "output_type": "stream",
     "text": [
      "*************food*************\n",
      "initial deposit        1000.00\n",
      "groceries                10.15\n",
      "restaurant and more foo  15.89\n",
      "Total: 1026.04\n"
     ]
    }
   ],
   "source": [
    "print(repr())"
   ]
  },
  {
   "cell_type": "code",
   "execution_count": 34,
   "id": "a83552b8-1d54-4bd3-abc7-b20da8aac821",
   "metadata": {},
   "outputs": [
    {
     "name": "stdout",
     "output_type": "stream",
     "text": [
      "GeeksforGeeks, is the computer science portal for geeks   !\n",
      "It is    40 degrees outside !\n",
      "GeeksforGeeks was founded in             2009!\n",
      " GeeksforGeeks   was founded in 3009!\n",
      "*******Geeks********\n"
     ]
    }
   ],
   "source": [
    "# To demonstrate spacing when\n",
    "# strings are passed as parameters\n",
    "print(\"{0:4}, is the computer science portal for {1:8}!\"\n",
    "      .format(\"GeeksforGeeks\", \"geeks\"))\n",
    " \n",
    "# To demonstrate spacing when numeric\n",
    "# constants are passed as parameters.\n",
    "print(\"It is {0:5} degrees outside !\"\n",
    "      .format(40))\n",
    " \n",
    "# To demonstrate both string and numeric\n",
    "# constants passed as parameters\n",
    "print(\"{0:4} was founded in {1:16}!\"\n",
    "      .format(\"GeeksforGeeks\", 2009))\n",
    " \n",
    " \n",
    "# To demonstrate aligning of spaces\n",
    "print(\"{0:^16} was founded in {1:<2}!\"\n",
    "      .format(\"GeeksforGeeks\", 3009))\n",
    " \n",
    "print(\"{:*^20s}\".format(\"Geeks\"))"
   ]
  },
  {
   "cell_type": "code",
   "execution_count": 68,
   "id": "1d080dbc-8fd1-4226-83db-44f03481868e",
   "metadata": {},
   "outputs": [
    {
     "name": "stdout",
     "output_type": "stream",
     "text": [
      "***********fuck you***********\n"
     ]
    }
   ],
   "source": [
    "self = \"fuck you\"\n",
    "print(f\"{self:*^30}\")"
   ]
  }
 ],
 "metadata": {
  "kernelspec": {
   "display_name": "Python 3",
   "language": "python",
   "name": "python3"
  },
  "language_info": {
   "codemirror_mode": {
    "name": "ipython",
    "version": 3
   },
   "file_extension": ".py",
   "mimetype": "text/x-python",
   "name": "python",
   "nbconvert_exporter": "python",
   "pygments_lexer": "ipython3",
   "version": "3.7.9"
  }
 },
 "nbformat": 4,
 "nbformat_minor": 5
}
