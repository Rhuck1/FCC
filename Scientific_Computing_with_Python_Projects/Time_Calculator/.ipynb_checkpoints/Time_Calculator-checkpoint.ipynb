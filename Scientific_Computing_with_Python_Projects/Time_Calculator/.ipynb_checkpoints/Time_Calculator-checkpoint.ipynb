{
 "cells": [
  {
   "cell_type": "code",
   "execution_count": null,
   "id": "2134c427-4af7-4470-8e08-0905e74e66e6",
   "metadata": {},
   "outputs": [],
   "source": [
    "'''\n",
    "A function named add_time that takes in two required parameters and one optional parameter:\n",
    "\n",
    "    a start time in the 12-hour clock format (ending in AM or PM)\n",
    "    a duration time that indicates the number of hours and minutes\n",
    "    (optional) a starting day of the week, case insensitive\n",
    "\n",
    "The function should add the duration time to the start time and return the result.\n",
    "\n",
    "If the result will be the next day, it should show (next day) after the time. If the result will be more than one day later, it should show (n days later) after the time, where \"n\" is the number of days later.\n",
    "\n",
    "If the function is given the optional starting day of the week parameter, then the output should display the day of the week of the result. The day of the week in the output should appear after the time and before the number of days later.\n",
    "\n",
    "Below are some examples of different cases the function should handle. Pay close attention to the spacing and punctuation of the results.\n",
    "\n",
    "add_time(\"3:00 PM\", \"3:10\")\n",
    "# Returns: 6:10 PM\n",
    "\n",
    "add_time(\"11:30 AM\", \"2:32\", \"Monday\")\n",
    "# Returns: 2:02 PM, Monday\n",
    "\n",
    "add_time(\"11:43 AM\", \"00:20\")\n",
    "# Returns: 12:03 PM\n",
    "\n",
    "add_time(\"10:10 PM\", \"3:30\")\n",
    "# Returns: 1:40 AM (next day)\n",
    "\n",
    "add_time(\"11:43 PM\", \"24:20\", \"tueSday\")\n",
    "# Returns: 12:03 AM, Thursday (2 days later)\n",
    "\n",
    "add_time(\"6:30 PM\", \"205:12\")\n",
    "# Returns: 7:42 AM (9 days later)\n",
    "\n",
    "Do not import any Python libraries. Assume that the start times are valid times. The minutes in the duration time will be a whole number less than 60, but the hour can be any whole number.\n",
    "\n",
    "'''"
   ]
  },
  {
   "cell_type": "code",
   "execution_count": 215,
   "id": "01bedc55-3f7d-4673-9bd7-e231e193e4ff",
   "metadata": {},
   "outputs": [],
   "source": [
    "def add_time(start, duration, starting_dow=None):\n",
    "    \n",
    "    days = [\"Monday\", \"Tuesday\", \"Wednesday\", \"Thursday\", \"Friday\", \"Saturday\", \"Sunday\"]\n",
    "    day_idx = [0, 1, 2, 3, 4, 5, 6]\n",
    "    \n",
    "    # Splitting input time strings\n",
    "    time_pieces = start.split()\n",
    "    init = time_pieces[0].split(':')\n",
    "    period = time_pieces[1]\n",
    "    hr_init  = int(init[0])\n",
    "    min_init = int(init[1])\n",
    "    dur = duration.split(':')\n",
    "    hr_dur = int(dur[0])\n",
    "    min_dur = int(dur[1])\n",
    "    \n",
    "    # Calculating total mins and hours in input time string\n",
    "    mins = min_init + min_dur\n",
    "    hrs = hr_init + hr_dur\n",
    "    \n",
    "    # Adding 12 hrs to inital start hour so that total_hrs floor division below calculates correctly\n",
    "    if period == \"PM\":\n",
    "        hr_init += 12\n",
    "    \n",
    "    total_mins = (min_init + min_dur) % 60\n",
    "    total_hrs = (hr_init + hr_dur) + ((min_init + min_dur) // 60) \n",
    "    \n",
    "    # Calculating 12 hour time format\n",
    "    final_hr = str(total_hrs % 12)\n",
    "    \n",
    "    # Calculating duration in days\n",
    "    final_days = total_hrs // 24\n",
    "    \n",
    "    # If total_hrs = 0, substitute it for 12\n",
    "    if final_hr == '0':\n",
    "        final_hr = '12'\n",
    "    \n",
    "    # Formatting single digit minute\n",
    "    if total_mins < 10:\n",
    "        final_min = \"0\" + str(total_mins)\n",
    "    else:\n",
    "        final_min = str(total_mins)\n",
    "    \n",
    "    # Determining AM / PM period\n",
    "    if (total_hrs % 24) // 12 == 0:\n",
    "        period = \"AM\"\n",
    "    else: \n",
    "        period = \"PM\"\n",
    "               \n",
    "    final_time = final_hr + \":\" + final_min + f\" {period}\"\n",
    "        \n",
    "    if not starting_dow:\n",
    "        \n",
    "        if final_days >= 2:\n",
    "            return final_time + f\" ({final_days} days later)\"\n",
    "                  \n",
    "        if final_days == 1:\n",
    "            return final_time + \" (next day)\"\n",
    "        \n",
    "        else:\n",
    "            return final_time\n",
    "        \n",
    "    else:\n",
    "        final_dow_idx = (dict(zip(days, day_idx))[starting_dow.capitalize()] + final_days) % 7\n",
    "        final_dow = dict(zip(day_idx, days)).get(final_dow_idx)\n",
    "        \n",
    "        if final_days == 0:\n",
    "            return final_time + f\", {final_dow}\"\n",
    "        \n",
    "        elif final_days == 1:\n",
    "            return final_time + f\", {final_dow} (next day)\"\n",
    "        \n",
    "        else:\n",
    "            return final_time + f\", {final_dow} ({final_days} days later)\"\n",
    "\n",
    "\n",
    "    return final_time"
   ]
  },
  {
   "cell_type": "code",
   "execution_count": 178,
   "id": "3040f3d6-9c8b-44f0-8d23-aef0c21a188f",
   "metadata": {},
   "outputs": [
    {
     "data": {
      "text/plain": [
       "'6:10 PM'"
      ]
     },
     "execution_count": 178,
     "metadata": {},
     "output_type": "execute_result"
    }
   ],
   "source": [
    "add_time(\"3:00 PM\", \"3:10\")\n",
    "# Returns: 6:10 PM"
   ]
  },
  {
   "cell_type": "code",
   "execution_count": 179,
   "id": "a2f093e5-1a3c-4714-a476-e8c1dbd10fcd",
   "metadata": {},
   "outputs": [
    {
     "data": {
      "text/plain": [
       "'2:02 PM, Monday'"
      ]
     },
     "execution_count": 179,
     "metadata": {},
     "output_type": "execute_result"
    }
   ],
   "source": [
    "add_time(\"11:30 AM\", \"2:32\", \"Monday\")\n",
    "# Returns: 2:02 PM, Monday"
   ]
  },
  {
   "cell_type": "code",
   "execution_count": 180,
   "id": "6ffb82d5-b89c-4316-95df-554b7a00b9ee",
   "metadata": {},
   "outputs": [
    {
     "data": {
      "text/plain": [
       "'12:03 PM'"
      ]
     },
     "execution_count": 180,
     "metadata": {},
     "output_type": "execute_result"
    }
   ],
   "source": [
    "add_time(\"11:43 AM\", \"00:20\")\n",
    "# Returns: 12:03 PM"
   ]
  },
  {
   "cell_type": "code",
   "execution_count": 181,
   "id": "5143cbb3-ce53-4400-ba7a-2a095e21c8a2",
   "metadata": {},
   "outputs": [
    {
     "data": {
      "text/plain": [
       "'1:40 AM (next day)'"
      ]
     },
     "execution_count": 181,
     "metadata": {},
     "output_type": "execute_result"
    }
   ],
   "source": [
    "add_time(\"10:10 PM\", \"3:30\")\n",
    "# Returns: 1:40 AM (next day)"
   ]
  },
  {
   "cell_type": "code",
   "execution_count": 182,
   "id": "b07f890b-bae0-4c56-8582-2d2ac3563335",
   "metadata": {},
   "outputs": [
    {
     "data": {
      "text/plain": [
       "'12:03 AM, Thursday (2 days later)'"
      ]
     },
     "execution_count": 182,
     "metadata": {},
     "output_type": "execute_result"
    }
   ],
   "source": [
    "add_time(\"11:43 PM\", \"24:20\", \"tueSday\")\n",
    "# Returns: 12:03 AM, Thursday (2 days later)"
   ]
  },
  {
   "cell_type": "code",
   "execution_count": 202,
   "id": "6783583b-5922-4ea5-acbb-0a3e6502d404",
   "metadata": {},
   "outputs": [
    {
     "data": {
      "text/plain": [
       "'7:42 AM (9 days later)'"
      ]
     },
     "execution_count": 202,
     "metadata": {},
     "output_type": "execute_result"
    }
   ],
   "source": [
    "add_time(\"6:30 PM\", \"205:12\")\n",
    "# Returns: 7:42 AM (9 days later)"
   ]
  },
  {
   "cell_type": "code",
   "execution_count": 210,
   "id": "15eb79ec-a31b-4242-92f6-edf2dd5b17ce",
   "metadata": {},
   "outputs": [
    {
     "data": {
      "text/plain": [
       "'6:18 AM, Monday (20 days later)'"
      ]
     },
     "execution_count": 210,
     "metadata": {},
     "output_type": "execute_result"
    }
   ],
   "source": [
    "add_time(\"8:16 PM\", \"466:02\", \"tuesday\")"
   ]
  },
  {
   "cell_type": "code",
   "execution_count": 213,
   "id": "5a9ff264-2a10-439a-8454-233b5a607788",
   "metadata": {},
   "outputs": [
    {
     "data": {
      "text/plain": [
       "'2:59 AM, Sunday (next day)'"
      ]
     },
     "execution_count": 213,
     "metadata": {},
     "output_type": "execute_result"
    }
   ],
   "source": [
    "add_time(\"2:59 AM\", \"24:00\", \"saturDay\")"
   ]
  },
  {
   "cell_type": "code",
   "execution_count": 216,
   "id": "1e3716f8-0c45-43c8-93a3-223805494bb4",
   "metadata": {},
   "outputs": [
    {
     "data": {
      "text/plain": [
       "'12:04 AM (2 days later)'"
      ]
     },
     "execution_count": 216,
     "metadata": {},
     "output_type": "execute_result"
    }
   ],
   "source": [
    "add_time(\"11:59 PM\", \"24:05\")"
   ]
  },
  {
   "cell_type": "code",
   "execution_count": null,
   "id": "de2bc2d2-be57-4842-92c0-04b47ebef04c",
   "metadata": {},
   "outputs": [],
   "source": [
    "expected = \"12:04 AM (2 days later)\""
   ]
  },
  {
   "cell_type": "code",
   "execution_count": null,
   "id": "433b170a-5068-4e9f-bcdd-f1bd54be5cd6",
   "metadata": {},
   "outputs": [],
   "source": []
  }
 ],
 "metadata": {
  "kernelspec": {
   "display_name": "Python 3",
   "language": "python",
   "name": "python3"
  },
  "language_info": {
   "codemirror_mode": {
    "name": "ipython",
    "version": 3
   },
   "file_extension": ".py",
   "mimetype": "text/x-python",
   "name": "python",
   "nbconvert_exporter": "python",
   "pygments_lexer": "ipython3",
   "version": "3.7.9"
  }
 },
 "nbformat": 4,
 "nbformat_minor": 5
}
