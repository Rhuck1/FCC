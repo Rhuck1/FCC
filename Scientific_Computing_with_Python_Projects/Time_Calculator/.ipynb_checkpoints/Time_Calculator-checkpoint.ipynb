{
 "cells": [
  {
   "cell_type": "code",
   "execution_count": null,
   "id": "2134c427-4af7-4470-8e08-0905e74e66e6",
   "metadata": {},
   "outputs": [],
   "source": [
    "'''\n",
    "A function named add_time that takes in two required parameters and one optional parameter:\n",
    "\n",
    "    a start time in the 12-hour clock format (ending in AM or PM)\n",
    "    a duration time that indicates the number of hours and minutes\n",
    "    (optional) a starting day of the week, case insensitive\n",
    "\n",
    "The function should add the duration time to the start time and return the result.\n",
    "\n",
    "If the result will be the next day, it should show (next day) after the time. If the result will be more than one day later, it should show (n days later) after the time, where \"n\" is the number of days later.\n",
    "\n",
    "If the function is given the optional starting day of the week parameter, then the output should display the day of the week of the result. The day of the week in the output should appear after the time and before the number of days later.\n",
    "\n",
    "Below are some examples of different cases the function should handle. Pay close attention to the spacing and punctuation of the results.\n",
    "\n",
    "add_time(\"3:00 PM\", \"3:10\")\n",
    "# Returns: 6:10 PM\n",
    "\n",
    "add_time(\"11:30 AM\", \"2:32\", \"Monday\")\n",
    "# Returns: 2:02 PM, Monday\n",
    "\n",
    "add_time(\"11:43 AM\", \"00:20\")\n",
    "# Returns: 12:03 PM\n",
    "\n",
    "add_time(\"10:10 PM\", \"3:30\")\n",
    "# Returns: 1:40 AM (next day)\n",
    "\n",
    "add_time(\"11:43 PM\", \"24:20\", \"tueSday\")\n",
    "# Returns: 12:03 AM, Thursday (2 days later)\n",
    "\n",
    "add_time(\"6:30 PM\", \"205:12\")\n",
    "# Returns: 7:42 AM (9 days later)\n",
    "\n",
    "Do not import any Python libraries. Assume that the start times are valid times. The minutes in the duration time will be a whole number less than 60, but the hour can be any whole number.\n",
    "\n",
    "'''"
   ]
  },
  {
   "cell_type": "code",
   "execution_count": 58,
   "id": "01bedc55-3f7d-4673-9bd7-e231e193e4ff",
   "metadata": {},
   "outputs": [],
   "source": [
    "def add_time(start, duration, starting_dow=None):\n",
    "    \n",
    "    # AM --> PM, need full 24hrs bf next day is signaled\n",
    "    # PM --> AM, only need difference in hrs bf next day is signalled\n",
    "    \n",
    "    time_pieces = start.split()\n",
    "    init = time_pieces[0].split(':')\n",
    "    period = time_pieces[1]\n",
    "    hr_init  = int(init[0])\n",
    "    min_init = int(init[1])\n",
    "    dur = duration.split(':')\n",
    "    hr_dur = int(dur[0])\n",
    "    min_dur = int(dur[1])\n",
    "\n",
    "    mins = min_init + min_dur\n",
    "    hrs = hr_init + hr_dur\n",
    "    \n",
    "    new_time = str(hrs) + \":\" + str(mins) + f\" {period}\"\n",
    "    \n",
    "    \n",
    "    total_mins = (min_init + min_dur) % 60\n",
    "    total_hrs = (hr_init + hr_dur) + ((min_init + min_dur) // 60) \n",
    "    \n",
    "    # \n",
    "    finishing_hr = (total_hrs % 24) // 12\n",
    "    \n",
    "    if finishing_hr == 0:\n",
    "        \n",
    "    \n",
    "    period_selection = {0: \"AM\", 1: \"PM\"}\n",
    "    \n",
    "    # Need a 24 hr counter\n",
    "    days = final_hr // 24\n",
    "    \n",
    "    # Need a 12 hr counter\n",
    "    half_day = final_hr // 12\n",
    "    \n",
    "    if half_day % 2 == 0:\n",
    "        print(half_day % 2)\n",
    "    \n",
    "#     # While dow greater than 7 continue to modulo by 7 \n",
    "#     while days > 8:\n",
    "#     if days > 8:\n",
    "#         day = 0\n",
    "#         dow = dow % 7\n",
    "#     dow = days % 7 # or multple floor divisions by 7 until zero reached?? or remainder %\n",
    "\n",
    "\n",
    "\n",
    "    return new_time"
   ]
  },
  {
   "cell_type": "code",
   "execution_count": 60,
   "id": "3040f3d6-9c8b-44f0-8d23-aef0c21a188f",
   "metadata": {},
   "outputs": [
    {
     "name": "stdout",
     "output_type": "stream",
     "text": [
      "0\n"
     ]
    },
    {
     "data": {
      "text/plain": [
       "'6:10 PM'"
      ]
     },
     "execution_count": 60,
     "metadata": {},
     "output_type": "execute_result"
    }
   ],
   "source": [
    "add_time(\"3:00 PM\", \"3:10\")\n",
    "# Returns: 6:10 PM"
   ]
  },
  {
   "cell_type": "code",
   "execution_count": 61,
   "id": "a2f093e5-1a3c-4714-a476-e8c1dbd10fcd",
   "metadata": {},
   "outputs": [
    {
     "data": {
      "text/plain": [
       "'13:62 AM'"
      ]
     },
     "execution_count": 61,
     "metadata": {},
     "output_type": "execute_result"
    }
   ],
   "source": [
    "add_time(\"11:30 AM\", \"2:32\", \"Monday\")\n",
    "# Returns: 2:02 PM, Monday\n"
   ]
  },
  {
   "cell_type": "code",
   "execution_count": 48,
   "id": "6ffb82d5-b89c-4316-95df-554b7a00b9ee",
   "metadata": {},
   "outputs": [
    {
     "data": {
      "text/plain": [
       "11"
      ]
     },
     "execution_count": 48,
     "metadata": {},
     "output_type": "execute_result"
    }
   ],
   "source": [
    "136 // 12"
   ]
  },
  {
   "cell_type": "code",
   "execution_count": 67,
   "id": "2daab73d-3af6-41f3-8a3b-90377e3daa3b",
   "metadata": {},
   "outputs": [
    {
     "data": {
      "text/plain": [
       "0"
      ]
     },
     "execution_count": 67,
     "metadata": {},
     "output_type": "execute_result"
    }
   ],
   "source": [
    "(148 % 24) // 12"
   ]
  },
  {
   "cell_type": "code",
   "execution_count": 65,
   "id": "1c71be87-712e-40b2-9e28-0df53eab8aa7",
   "metadata": {},
   "outputs": [
    {
     "data": {
      "text/plain": [
       "1"
      ]
     },
     "execution_count": 65,
     "metadata": {},
     "output_type": "execute_result"
    }
   ],
   "source": [
    "12 // 12"
   ]
  },
  {
   "cell_type": "code",
   "execution_count": null,
   "id": "5f22113a-7dae-474c-aa62-4a390d2a29be",
   "metadata": {},
   "outputs": [],
   "source": []
  },
  {
   "cell_type": "code",
   "execution_count": null,
   "id": "edef2450-c9b1-46c8-8b27-b6b19eb3f97a",
   "metadata": {},
   "outputs": [],
   "source": []
  },
  {
   "cell_type": "code",
   "execution_count": null,
   "id": "5143cbb3-ce53-4400-ba7a-2a095e21c8a2",
   "metadata": {},
   "outputs": [],
   "source": []
  }
 ],
 "metadata": {
  "kernelspec": {
   "display_name": "Python 3",
   "language": "python",
   "name": "python3"
  },
  "language_info": {
   "codemirror_mode": {
    "name": "ipython",
    "version": 3
   },
   "file_extension": ".py",
   "mimetype": "text/x-python",
   "name": "python",
   "nbconvert_exporter": "python",
   "pygments_lexer": "ipython3",
   "version": "3.7.9"
  }
 },
 "nbformat": 4,
 "nbformat_minor": 5
}
