{
 "cells": [
  {
   "cell_type": "code",
   "execution_count": null,
   "id": "b34dbacc-2766-4b80-81c8-a181af9829b5",
   "metadata": {},
   "outputs": [],
   "source": [
    "'''\n",
    "Suppose there is a hat containing 5 blue balls, 4 red balls, and 2 green balls. What is the probability that a random draw of 4 balls will contain at least 1 red ball and 2 green balls? While it would be possible to calculate the probability using advanced mathematics, an easier way is to write a program to perform a large number of experiments to estimate an approximate probability.\n",
    "\n",
    "For this project, you will write a program to determine the approximate probability of drawing certain balls randomly from a hat.\n",
    "\n",
    "First, create a Hat class in prob_calculator.py. The class should take a variable number of arguments that specify the number of balls of each color that are in the hat. For example, a class object could be created in any of these ways:\n",
    "\n",
    "hat1 = Hat(yellow=3, blue=2, green=6)\n",
    "hat2 = Hat(red=5, orange=4)\n",
    "hat3 = Hat(red=5, orange=4, black=1, blue=0, pink=2, striped=9)\n",
    "\n",
    "A hat will always be created with at least one ball. The arguments passed into the hat object upon creation should be converted to a contents instance variable. contents should be a list of strings containing one item for each ball in the hat. Each item in the list should be a color name representing a single ball of that color. For example, if your hat is {\"red\": 2, \"blue\": 1}, contents should be [\"red\", \"red\", \"blue\"].\n",
    "\n",
    "The Hat class should have a draw method that accepts an argument indicating the number of balls to draw from the hat. This method should remove balls at random from contents and return those balls as a list of strings. The balls should not go back into the hat during the draw, similar to an urn experiment without replacement. If the number of balls to draw exceeds the available quantity, return all the balls.\n",
    "\n",
    "Next, create an experiment function in prob_calculator.py (not inside the Hat class). This function should accept the following arguments:\n",
    "\n",
    "    hat: A hat object containing balls that should be copied inside the function.\n",
    "    expected_balls: An object indicating the exact group of balls to attempt to draw from the hat for the experiment. For example, to determine the probability of drawing 2 blue balls and 1 red ball from the hat, set expected_balls to {\"blue\":2, \"red\":1}.\n",
    "    num_balls_drawn: The number of balls to draw out of the hat in each experiment.\n",
    "    num_experiments: The number of experiments to perform. (The more experiments performed, the more accurate the approximate probability will be.)\n",
    "\n",
    "The experiment function should return a probability.\n",
    "\n",
    "For example, if you want to determine the probability of getting at least two red balls and one green ball when you draw five balls from a hat containing six black, four red, and three green. To do this, you will perform N experiments, count how many times M you get at least two red balls and one green ball, and estimate the probability as M/N. Each experiment consists of starting with a hat containing the specified balls, drawing several balls, and checking if you got the balls you were attempting to draw.\n",
    "\n",
    "Here is how you would call the experiment function based on the example above with 2000 experiments:\n",
    "\n",
    "hat = Hat(black=6, red=4, green=3)\n",
    "probability = experiment(hat=hat,\n",
    "                  expected_balls={\"red\":2,\"green\":1},\n",
    "                  num_balls_drawn=5,\n",
    "                  num_experiments=2000)\n",
    "\n",
    "Since this is based on random draws, the probability will be slightly different each time the code is run.\n",
    "'''"
   ]
  },
  {
   "cell_type": "code",
   "execution_count": null,
   "id": "693f6198-3541-4641-a070-b8e8684ea053",
   "metadata": {},
   "outputs": [],
   "source": [
    "import copy\n",
    "import random\n",
    "# Consider using the modules imported above.\n",
    "\n",
    "class Hat(*balls):\n",
    "    \n",
    "    \n",
    "\n",
    "\n",
    "def experiment(hat, expected_balls, num_balls_drawn, num_experiments):"
   ]
  },
  {
   "cell_type": "code",
   "execution_count": null,
   "id": "197bad80-b416-46d5-8d16-6f9e1f7842f4",
   "metadata": {},
   "outputs": [],
   "source": []
  },
  {
   "cell_type": "code",
   "execution_count": 2,
   "id": "b91b8222-9648-4b43-97b2-1a6e73c9aa21",
   "metadata": {},
   "outputs": [
    {
     "name": "stdout",
     "output_type": "stream",
     "text": [
      "['Alice', 'Bob', 'Charlie', 'Bob', 'David']\n",
      "['Alice', 'Charlie', 'David']\n",
      "['Alice', 'Charlie']\n"
     ]
    }
   ],
   "source": [
    "l = ['Alice', 'Bob', 'Charlie', 'Bob', 'David']\n",
    "print(l)\n",
    "# ['Alice', 'Bob', 'Charlie', 'Bob', 'David']\n",
    "\n",
    "print([s for s in l if s != 'Bob'])\n",
    "# ['Alice', 'Charlie', 'David']\n",
    "\n",
    "print([s for s in l if s.endswith('e')])\n",
    "# ['Alice', 'Charlie']"
   ]
  },
  {
   "cell_type": "code",
   "execution_count": 4,
   "id": "339490b2-cd72-4d05-ac30-84459f488dbe",
   "metadata": {},
   "outputs": [
    {
     "data": {
      "text/plain": [
       "['Alice', 'Charlie', 'Bob', 'David']"
      ]
     },
     "execution_count": 4,
     "metadata": {},
     "output_type": "execute_result"
    }
   ],
   "source": [
    "l = ['Alice', 'Bob', 'Charlie', 'Bob', 'David']\n",
    "l.remove('Bob')\n",
    "l"
   ]
  },
  {
   "cell_type": "code",
   "execution_count": null,
   "id": "d07749ad-d64b-46cf-bc67-df181258cc7c",
   "metadata": {},
   "outputs": [],
   "source": []
  },
  {
   "cell_type": "code",
   "execution_count": null,
   "id": "ee51a178-0526-4bef-afeb-622d8f034326",
   "metadata": {},
   "outputs": [],
   "source": []
  },
  {
   "cell_type": "code",
   "execution_count": null,
   "id": "4e977d35-4920-48b0-baf6-23899dc28005",
   "metadata": {},
   "outputs": [],
   "source": []
  },
  {
   "cell_type": "code",
   "execution_count": null,
   "id": "cefa29a0-40f2-4366-b70e-086f45ed1335",
   "metadata": {},
   "outputs": [],
   "source": []
  },
  {
   "cell_type": "code",
   "execution_count": null,
   "id": "b9750041-2639-4dda-b4c7-79c12e320f73",
   "metadata": {},
   "outputs": [],
   "source": []
  },
  {
   "cell_type": "code",
   "execution_count": null,
   "id": "d0e47a1d-b16a-4032-be33-afa82f5b0d94",
   "metadata": {},
   "outputs": [],
   "source": []
  },
  {
   "cell_type": "code",
   "execution_count": null,
   "id": "6a0cfcef-aab2-4f1a-8e67-255f862dceac",
   "metadata": {},
   "outputs": [],
   "source": []
  },
  {
   "cell_type": "code",
   "execution_count": null,
   "id": "d41889c5-d2ce-4f1b-8b6e-35c11374b97e",
   "metadata": {},
   "outputs": [],
   "source": []
  },
  {
   "cell_type": "code",
   "execution_count": null,
   "id": "fed84231-353a-47be-8d86-89edbddd161c",
   "metadata": {},
   "outputs": [],
   "source": []
  },
  {
   "cell_type": "code",
   "execution_count": null,
   "id": "6aa0b605-2b5d-4a3b-913b-d80330de3622",
   "metadata": {},
   "outputs": [],
   "source": []
  },
  {
   "cell_type": "code",
   "execution_count": null,
   "id": "83792ad1-d648-49c6-91fd-8a48aa527b03",
   "metadata": {},
   "outputs": [],
   "source": []
  }
 ],
 "metadata": {
  "kernelspec": {
   "display_name": "Python 3",
   "language": "python",
   "name": "python3"
  },
  "language_info": {
   "codemirror_mode": {
    "name": "ipython",
    "version": 3
   },
   "file_extension": ".py",
   "mimetype": "text/x-python",
   "name": "python",
   "nbconvert_exporter": "python",
   "pygments_lexer": "ipython3",
   "version": "3.7.9"
  }
 },
 "nbformat": 4,
 "nbformat_minor": 5
}
