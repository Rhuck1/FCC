{
 "cells": [
  {
   "cell_type": "code",
   "execution_count": null,
   "id": "3e614528-be3f-4b46-8503-42a598714a2e",
   "metadata": {},
   "outputs": [],
   "source": [
    "'''\n",
    "Students in primary school often arrange arithmetic problems vertically to make them easier to solve. For example, \"235 + 52\" becomes:\n",
    "\n",
    "  235\n",
    "+  52\n",
    "-----\n",
    "\n",
    "Create a function that receives a list of strings that are arithmetic problems and returns the problems arranged vertically and side-by-side. The function should optionally take a second argument. When the second argument is set to True, the answers should be displayed.\n",
    "Example\n",
    "\n",
    "Function Call:\n",
    "\n",
    "arithmetic_arranger([\"32 + 698\", \"3801 - 2\", \"45 + 43\", \"123 + 49\"])\n",
    "\n",
    "Output:\n",
    "\n",
    "   32      3801      45      123\n",
    "+ 698    -    2    + 43    +  49\n",
    "-----    ------    ----    -----\n",
    "\n",
    "Function Call:\n",
    "\n",
    "arithmetic_arranger([\"32 + 8\", \"1 - 3801\", \"9999 + 9999\", \"523 - 49\"], True)\n",
    "\n",
    "Output:\n",
    "\n",
    "  32         1      9999      523\n",
    "+  8    - 3801    + 9999    -  49\n",
    "----    ------    ------    -----\n",
    "  40     -3800     19998      474\n",
    "\n",
    "Rules\n",
    "\n",
    "The function will return the correct conversion if the supplied problems are properly formatted, otherwise, it will return a string that describes an error that is meaningful to the user.\n",
    "\n",
    "    Situations that will return an error:\n",
    "        * If there are too many problems supplied to the function. The limit is five, anything more will return: Error: Too many problems.\n",
    "        * The appropriate operators the function will accept are addition and subtraction. Multiplication and division will return an error. Other operators not mentioned in this bullet point will not need to be tested. The error returned will be: Error: Operator must be '+' or '-'.\n",
    "        * Each number (operand) should only contain digits. Otherwise, the function will return: Error: Numbers must only contain digits.\n",
    "        * Each operand (aka number on each side of the operator) has a max of four digits in width. Otherwise, the error string returned will be: Error: Numbers cannot be more than four digits.\n",
    "    If the user supplied the correct format of problems, the conversion you return will follow these rules:\n",
    "        1) There should be a single space between the operator and the longest of the two operands, the operator will be on the same line as the second operand, both operands will be in the same order as provided (the first will be the top one and the second will be the bottom).\n",
    "        2) Numbers should be right-aligned.\n",
    "        3) There should be four spaces between each problem.\n",
    "        4) There should be dashes at the bottom of each problem. The dashes should run along the entire length of each problem individually. (The example above shows what this should look like.)\n",
    "'''"
   ]
  },
  {
   "cell_type": "code",
   "execution_count": 30,
   "id": "527c35df-c508-44ed-9609-8b8f5f8836a6",
   "metadata": {},
   "outputs": [],
   "source": [
    "def arithmetic_arranger(problems, answers=False):\n",
    "    \n",
    "    if len(problems) > 5: # Handling problem limit of 5\n",
    "        return(\"Error: Too many problems.\")\n",
    "    \n",
    "    operators = []\n",
    "    numbers = []\n",
    "    solutions = []\n",
    "\n",
    "    for problem in problems:\n",
    "        \n",
    "        pieces = problem.split()\n",
    "        \n",
    "        if pieces[1] not in ['+', '-']: # Handling non '+' or '-' problem instances\n",
    "            return(\"Error: Operator must be '+' or '-'.\") \n",
    "\n",
    "        elif not pieces[0].isnumeric() or not pieces[2].isnumeric(): # Handling non numeric problem instances\n",
    "            return(\"Error: Numbers must only contain digits.\")\n",
    "\n",
    "        elif len(pieces[0]) > 4 or len(pieces[2]) > 4: # Handling digit width limit of 4\n",
    "            return(\"Error: Numbers cannot be more than four digits.\")\n",
    "        \n",
    "        operators.append(pieces[1]) # Adding operators to a collection list\n",
    "        numbers.extend([pieces[0], pieces[2]]) # Adding numbers to a collection list\n",
    "        solutions.append(eval(problem)) # Adding solutions to a collection list\n",
    "        \n",
    "    top_row = ''\n",
    "    dashes = ''\n",
    "    solution_row = ''\n",
    "    bottom_row = ''\n",
    "    \n",
    "    # Looping through the range of the length of numbers to determine spacing of problem by each row\n",
    "    for idx in range(0, len(numbers), 2):\n",
    "        top_spacing = max(len(numbers[idx]), len(numbers[idx + 1])) + 2\n",
    "        top_row += numbers[idx].rjust(top_spacing)\n",
    "        dashes += '-' * top_spacing\n",
    "        solution_row += str(solutions[idx // 2]).rjust(top_spacing)\n",
    "        if idx != len(numbers) - 2:\n",
    "            top_row += ' ' * 4\n",
    "            dashes += ' ' * 4\n",
    "            solution_row += ' ' * 4\n",
    "        \n",
    "        bottom_spacing = max(len(numbers[idx]), len(numbers[idx + 1])) + 1\n",
    "        bottom_row += operators[idx // 2]\n",
    "        bottom_row += numbers[idx + 1].rjust(bottom_spacing)\n",
    "        if idx + 1 != len(numbers) - 1:\n",
    "            bottom_row += ' ' * 4\n",
    "    \n",
    "    if answers:\n",
    "        arranged_problems = '\\n'.join((top_row, bottom_row, dashes, solution_row))\n",
    "        \n",
    "    else:\n",
    "        arranged_problems = '\\n'.join((top_row, bottom_row, dashes))\n",
    "        \n",
    "    return arranged_problems"
   ]
  },
  {
   "cell_type": "code",
   "execution_count": 31,
   "id": "cae37622-0c2a-475a-9ada-b2b42b70a685",
   "metadata": {},
   "outputs": [
    {
     "name": "stdout",
     "output_type": "stream",
     "text": [
      "Error: Numbers must only contain digits.\n"
     ]
    }
   ],
   "source": [
    "problems = ['98 + 3g5', '3801 - 2', '45 + 43', '123 + 49']\n",
    "answers = False\n",
    "\n",
    "print(arithmetic_arranger(problems, answers))"
   ]
  },
  {
   "cell_type": "code",
   "execution_count": 32,
   "id": "497c3497-b74d-4fab-92b9-a45b18e8d93a",
   "metadata": {},
   "outputs": [
    {
     "name": "stdout",
     "output_type": "stream",
     "text": [
      "Error: Numbers must only contain digits.\n"
     ]
    }
   ],
   "source": [
    "prob = [\"32b + 698\", \"3801 - 2\", \"45 + 43\", \"123 + 49\", \"34 + 4970\"]\n",
    "prob2 = ['32 + 320', '3800 + 2']\n",
    "prob3 = ['3800 + 1']\n",
    "prob4 = ['9999 + 9999']\n",
    "\n",
    "print(arithmetic_arranger(prob))"
   ]
  },
  {
   "cell_type": "markdown",
   "id": "84893aab-8f49-4bb0-957d-87eb47fa909b",
   "metadata": {},
   "source": [
    "## Arithmetic Arranger Solution"
   ]
  },
  {
   "cell_type": "code",
   "execution_count": 114,
   "id": "02c8fe90-3760-40a9-a660-5c36bdffb5a3",
   "metadata": {},
   "outputs": [],
   "source": [
    "def arithmetic_arranger_solution(problems, val=False):\n",
    "    arranged_problems = ''\n",
    "    if len(problems) > 5:\n",
    "        arranged_problems = \"Error: Too many problems.\"\n",
    "        return arranged_problems\n",
    "\n",
    "    # list of all operations in str format\n",
    "    operations = list(map(lambda x: x.split()[1], problems))\n",
    "    if set(operations) != {'+', '-'} and len(set(operations)) != 2:\n",
    "        arranged_problems = \"Error: Operator must be '+' or '-'.\"\n",
    "        return arranged_problems\n",
    "\n",
    "    numbers = []  # list of all operands in str format\n",
    "    for i in problems:\n",
    "        p = i.split()\n",
    "        numbers.extend([p[0], p[2]])\n",
    "\n",
    "    if not all(map(lambda x: x.isdigit(), numbers)):\n",
    "        arranged_problems = \"Error: Numbers must only contain digits.\"\n",
    "        return arranged_problems\n",
    "\n",
    "    if not all(map(lambda x: len(x) < 5, numbers)):\n",
    "        arranged_problems = \"Error: Numbers cannot be more than four digits.\"\n",
    "        return arranged_problems\n",
    "\n",
    "    top_row = ''\n",
    "    dashes = ''\n",
    "    values = list(map(lambda x: eval(x), problems))\n",
    "    solutions = ''\n",
    "    for i in range(0, len(numbers), 2):\n",
    "        space_width = max(len(numbers[i]), len(numbers[i+1])) + 2\n",
    "        top_row += numbers[i].rjust(space_width)\n",
    "        dashes += '-' * space_width\n",
    "        solutions += str(values[i // 2]).rjust(space_width)\n",
    "        if i != len(numbers) - 2:\n",
    "            top_row += ' ' * 4\n",
    "            dashes += ' ' * 4\n",
    "            solutions += ' ' * 4\n",
    "\n",
    "    bottom_row = ''\n",
    "    for i in range(1, len(numbers), 2):\n",
    "        space_width = max(len(numbers[i - 1]), len(numbers[i])) + 1\n",
    "        bottom_row += operations[i // 2]\n",
    "        bottom_row += numbers[i].rjust(space_width)\n",
    "        if i != len(numbers) - 1:\n",
    "            bottom_row += ' ' * 4\n",
    "\n",
    "    if val:\n",
    "        arranged_problems = '\\n'.join((top_row, bottom_row, dashes, solutions))\n",
    "    else:\n",
    "        arranged_problems = '\\n'.join((top_row, bottom_row, dashes))\n",
    "    return arranged_problems"
   ]
  },
  {
   "cell_type": "code",
   "execution_count": 115,
   "id": "c7de717d-3f28-42b1-9801-52056456b56b",
   "metadata": {},
   "outputs": [
    {
     "name": "stdout",
     "output_type": "stream",
     "text": [
      "   32      3801      45      123        34\n",
      "+ 698    -    2    + 43    +  49    + 4970\n",
      "-----    ------    ----    -----    ------\n",
      "  730      3799      88      172      5004\n"
     ]
    }
   ],
   "source": [
    "prob = [\"32 + 698\", \"3801 - 2\", \"45 + 43\", \"123 + 49\", \"34 + 4970\"]\n",
    "prob2 = ['32 + 320', '3800 + 2']\n",
    "prob3 = ['3800 + 1']\n",
    "prob4 = ['9999 + 9999']\n",
    "\n",
    "print(arithmetic_arranger_solution(prob, True))"
   ]
  },
  {
   "cell_type": "code",
   "execution_count": null,
   "id": "2288e6a2-67e9-4411-8cbc-b42c537beb38",
   "metadata": {},
   "outputs": [],
   "source": []
  },
  {
   "cell_type": "code",
   "execution_count": null,
   "id": "e15daaeb-a5a2-42f9-944d-e52470eb38c8",
   "metadata": {},
   "outputs": [],
   "source": []
  },
  {
   "cell_type": "code",
   "execution_count": null,
   "id": "a596be52-a15f-473d-aca2-bd067ae273f9",
   "metadata": {},
   "outputs": [],
   "source": []
  },
  {
   "cell_type": "code",
   "execution_count": null,
   "id": "5dbba637-7c9b-401f-86d9-1dae81751537",
   "metadata": {},
   "outputs": [],
   "source": []
  },
  {
   "cell_type": "code",
   "execution_count": null,
   "id": "7fb0cf56-aed8-4488-9bae-aee62d1b2ddb",
   "metadata": {},
   "outputs": [],
   "source": []
  },
  {
   "cell_type": "code",
   "execution_count": null,
   "id": "da80dd96-32f2-41e3-affc-b41568815342",
   "metadata": {},
   "outputs": [],
   "source": []
  }
 ],
 "metadata": {
  "kernelspec": {
   "display_name": "Python 3",
   "language": "python",
   "name": "python3"
  },
  "language_info": {
   "codemirror_mode": {
    "name": "ipython",
    "version": 3
   },
   "file_extension": ".py",
   "mimetype": "text/x-python",
   "name": "python",
   "nbconvert_exporter": "python",
   "pygments_lexer": "ipython3",
   "version": "3.7.9"
  }
 },
 "nbformat": 4,
 "nbformat_minor": 5
}
