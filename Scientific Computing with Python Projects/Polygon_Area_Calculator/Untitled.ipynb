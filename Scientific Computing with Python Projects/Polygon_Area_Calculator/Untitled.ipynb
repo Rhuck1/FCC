{
 "cells": [
  {
   "cell_type": "code",
   "execution_count": null,
   "id": "afee4446-3831-4856-a72f-d886a62f6643",
   "metadata": {},
   "outputs": [],
   "source": []
  }
 ],
 "metadata": {
  "kernelspec": {
   "display_name": "Python 3",
   "language": "python",
   "name": "python3"
  },
  "language_info": {
   "codemirror_mode": {
    "name": "ipython",
    "version": 3
   },
   "file_extension": ".py",
   "mimetype": "text/x-python",
   "name": "python",
   "nbconvert_exporter": "python",
   "pygments_lexer": "ipython3",
   "version": "3.7.9"
  }
 },
 "nbformat": 4,
 "nbformat_minor": 5
}
