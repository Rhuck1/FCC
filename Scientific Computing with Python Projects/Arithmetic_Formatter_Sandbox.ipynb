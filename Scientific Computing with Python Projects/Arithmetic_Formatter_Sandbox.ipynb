{
 "cells": [
  {
   "cell_type": "code",
   "execution_count": null,
   "id": "3e614528-be3f-4b46-8503-42a598714a2e",
   "metadata": {},
   "outputs": [],
   "source": [
    "'''\n",
    "Students in primary school often arrange arithmetic problems vertically to make them easier to solve. For example, \"235 + 52\" becomes:\n",
    "\n",
    "  235\n",
    "+  52\n",
    "-----\n",
    "\n",
    "Create a function that receives a list of strings that are arithmetic problems and returns the problems arranged vertically and side-by-side. The function should optionally take a second argument. When the second argument is set to True, the answers should be displayed.\n",
    "Example\n",
    "\n",
    "Function Call:\n",
    "\n",
    "arithmetic_arranger([\"32 + 698\", \"3801 - 2\", \"45 + 43\", \"123 + 49\"])\n",
    "\n",
    "Output:\n",
    "\n",
    "   32      3801      45      123\n",
    "+ 698    -    2    + 43    +  49\n",
    "-----    ------    ----    -----\n",
    "\n",
    "Function Call:\n",
    "\n",
    "arithmetic_arranger([\"32 + 8\", \"1 - 3801\", \"9999 + 9999\", \"523 - 49\"], True)\n",
    "\n",
    "Output:\n",
    "\n",
    "  32         1      9999      523\n",
    "+  8    - 3801    + 9999    -  49\n",
    "----    ------    ------    -----\n",
    "  40     -3800     19998      474\n",
    "\n",
    "Rules\n",
    "\n",
    "The function will return the correct conversion if the supplied problems are properly formatted, otherwise, it will return a string that describes an error that is meaningful to the user.\n",
    "\n",
    "    Situations that will return an error:\n",
    "        * If there are too many problems supplied to the function. The limit is five, anything more will return: Error: Too many problems.\n",
    "        * The appropriate operators the function will accept are addition and subtraction. Multiplication and division will return an error. Other operators not mentioned in this bullet point will not need to be tested. The error returned will be: Error: Operator must be '+' or '-'.\n",
    "        * Each number (operand) should only contain digits. Otherwise, the function will return: Error: Numbers must only contain digits.\n",
    "        * Each operand (aka number on each side of the operator) has a max of four digits in width. Otherwise, the error string returned will be: Error: Numbers cannot be more than four digits.\n",
    "    If the user supplied the correct format of problems, the conversion you return will follow these rules:\n",
    "        1) There should be a single space between the operator and the longest of the two operands, the operator will be on the same line as the second operand, both operands will be in the same order as provided (the first will be the top one and the second will be the bottom).\n",
    "        2) Numbers should be right-aligned.\n",
    "        3) There should be four spaces between each problem.\n",
    "        4) There should be dashes at the bottom of each problem. The dashes should run along the entire length of each problem individually. (The example above shows what this should look like.)\n",
    "'''"
   ]
  },
  {
   "cell_type": "code",
   "execution_count": null,
   "id": "7e74c340-f6eb-46e7-87ba-d718e4498533",
   "metadata": {},
   "outputs": [],
   "source": []
  },
  {
   "cell_type": "code",
   "execution_count": null,
   "id": "b37f000a-3f1a-4e42-9b2c-c8594a6f5318",
   "metadata": {},
   "outputs": [],
   "source": []
  },
  {
   "cell_type": "code",
   "execution_count": null,
   "id": "cafa05c7-6d2c-4f03-a96e-7549826e6e84",
   "metadata": {},
   "outputs": [],
   "source": []
  },
  {
   "cell_type": "code",
   "execution_count": null,
   "id": "b7045a89-57ab-450e-9063-bf95d3023c25",
   "metadata": {},
   "outputs": [],
   "source": []
  },
  {
   "cell_type": "code",
   "execution_count": null,
   "id": "399b0702-1e5c-49e9-8ad1-cb3143067033",
   "metadata": {},
   "outputs": [],
   "source": []
  },
  {
   "cell_type": "code",
   "execution_count": null,
   "id": "527c35df-c508-44ed-9609-8b8f5f8836a6",
   "metadata": {},
   "outputs": [],
   "source": [
    "def arithmetic_arranger(problems, answers=False):\n",
    "\n",
    "  if len(problems) > 5:\n",
    "    return('Error: Too many problems.')\n",
    "\n",
    "  for problem in problems:\n",
    "\n",
    "    pieces = problem.split()\n",
    "\n",
    "    if pieces[1] not in ['+', '-']:\n",
    "      return(\"Error: Operator must be '+' or '-'.\")\n",
    "      break\n",
    "\n",
    "    if \n",
    "\n",
    "    len_1 = len(pieces[0])\n",
    "    len_2 = len(pieces[2])\n",
    "\n",
    "    arranged_problems = pieces[0] + '\\n' + pieces[1] + ' ' + pieces[2] + '\\n' + '----'\n",
    "\n",
    "  if answers:\n",
    "    Pass\n",
    "\n",
    "    \n",
    "    \n",
    "    return arranged_problems"
   ]
  },
  {
   "cell_type": "code",
   "execution_count": null,
   "id": "497c3497-b74d-4fab-92b9-a45b18e8d93a",
   "metadata": {},
   "outputs": [],
   "source": []
  },
  {
   "cell_type": "code",
   "execution_count": null,
   "id": "98acbd73-99fd-46de-8749-de5b7688eb7a",
   "metadata": {},
   "outputs": [],
   "source": []
  }
 ],
 "metadata": {
  "kernelspec": {
   "display_name": "Python 3",
   "language": "python",
   "name": "python3"
  },
  "language_info": {
   "codemirror_mode": {
    "name": "ipython",
    "version": 3
   },
   "file_extension": ".py",
   "mimetype": "text/x-python",
   "name": "python",
   "nbconvert_exporter": "python",
   "pygments_lexer": "ipython3",
   "version": "3.7.9"
  }
 },
 "nbformat": 4,
 "nbformat_minor": 5
}
